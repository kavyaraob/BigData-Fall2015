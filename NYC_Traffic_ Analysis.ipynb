{
 "cells": [
  {
   "cell_type": "markdown",
   "metadata": {},
   "source": [
    "# NYC Transportation Domain\n",
    "\n",
    "---- Kavya Rao"
   ]
  },
  {
   "cell_type": "markdown",
   "metadata": {},
   "source": [
    "\n",
    "Data Set :  NYC Traffic Collisions\n",
    "Link : https://data.cityofnewyork.us/Public-Safety/NYPD-Motor-Vehicle-Collisions/h9gi-nx95\n",
    "Problem Statement: Analyze NYC Collision(Accident) data set using Pandas and Numpy\n",
    "  \t1. Clean data , remove Null values\n",
    "\t2. Drop the unwanted columns\n",
    "\t3. Divide the data set based on the year\n",
    "\t4. Analyze fatalities/injuries based on Borough\n",
    "\t5. Analyze fatalities/injuries based on Month\n",
    "\t6. Analyze fatalities/injuries based on Time (24 Hours)\n",
    "\t7. Display the results using graphs and plots\n",
    "\t8. Apply Regression Analysis to the Accident data set\n",
    "    \n",
    "In statistical modeling, regression analysis is a statistical process for estimating the relationships among variables. It includes many techniques for modeling and analyzing several variables, when the focus is on the relationship between a dependent variable and one or more independent variables (or 'predictors'). More specifically, regression analysis helps one understand how the typical value of the dependent variable (or 'criterion variable') changes when any one of the independent variables is varied, while the other independent variables are held fixed. Most commonly, regression analysis estimates the conditional expectation of the dependent variable given the independent variables – that is, the average value of the dependent variable when the independent variables are fixed. Less commonly, the focus is on a quantile, or other location parameter of the conditional distribution of the dependent variable given the independent variables. In all cases, the estimation target is a function of the independent variables called the regression function. In regression analysis, it is also of interest to characterize the variation of the dependent variable around the regression function which can be described by a probability distribution.\n"
   ]
  },
  {
   "cell_type": "markdown",
   "metadata": {},
   "source": [
    "# Data Set Up"
   ]
  },
  {
   "cell_type": "code",
   "execution_count": 1,
   "metadata": {
    "collapsed": false
   },
   "outputs": [
    {
     "data": {
      "text/html": [
       "<div>\n",
       "<table border=\"1\" class=\"dataframe\">\n",
       "  <thead>\n",
       "    <tr style=\"text-align: right;\">\n",
       "      <th></th>\n",
       "      <th>DATE_TIME</th>\n",
       "      <th>BOROUGH</th>\n",
       "      <th>ZIP_CODE</th>\n",
       "      <th>LATITUDE</th>\n",
       "      <th>LONGITUDE</th>\n",
       "      <th>LOCATION</th>\n",
       "      <th>NUMBER_OF_PERSONS_INJURED</th>\n",
       "      <th>NUMBER_OF_PERSONS_KILLED</th>\n",
       "      <th>NUMBER_OF_PEDESTRIANS_INJURED</th>\n",
       "      <th>NUMBER_OF_PEDESTRIANS_KILLED</th>\n",
       "      <th>NUMBER_OF_CYCLIST_INJURED</th>\n",
       "      <th>NUMBER_OF_CYCLIST_KILLED</th>\n",
       "      <th>NUMBER_OF_MOTORIST_INJURED</th>\n",
       "      <th>NUMBER_OF_MOTORIST_KILLED</th>\n",
       "      <th>UNIQUE_KEY</th>\n",
       "    </tr>\n",
       "  </thead>\n",
       "  <tbody>\n",
       "    <tr>\n",
       "      <th>0</th>\n",
       "      <td>2015-11-29 20:35:00</td>\n",
       "      <td>MANHATTAN</td>\n",
       "      <td>10011</td>\n",
       "      <td>40.735914</td>\n",
       "      <td>-74.000848</td>\n",
       "      <td>(40.7359142, -74.000848)</td>\n",
       "      <td>0</td>\n",
       "      <td>0</td>\n",
       "      <td>0</td>\n",
       "      <td>0</td>\n",
       "      <td>0</td>\n",
       "      <td>0</td>\n",
       "      <td>0</td>\n",
       "      <td>0</td>\n",
       "      <td>3343209</td>\n",
       "    </tr>\n",
       "    <tr>\n",
       "      <th>3</th>\n",
       "      <td>2015-11-29 18:50:00</td>\n",
       "      <td>QUEENS</td>\n",
       "      <td>11434</td>\n",
       "      <td>40.666697</td>\n",
       "      <td>-73.767128</td>\n",
       "      <td>(40.6666971, -73.7671284)</td>\n",
       "      <td>0</td>\n",
       "      <td>0</td>\n",
       "      <td>0</td>\n",
       "      <td>0</td>\n",
       "      <td>0</td>\n",
       "      <td>0</td>\n",
       "      <td>0</td>\n",
       "      <td>0</td>\n",
       "      <td>3344840</td>\n",
       "    </tr>\n",
       "    <tr>\n",
       "      <th>5</th>\n",
       "      <td>2015-11-29 18:55:00</td>\n",
       "      <td>BROOKLYN</td>\n",
       "      <td>11213</td>\n",
       "      <td>40.679368</td>\n",
       "      <td>-73.931325</td>\n",
       "      <td>(40.6793681, -73.9313255)</td>\n",
       "      <td>0</td>\n",
       "      <td>0</td>\n",
       "      <td>0</td>\n",
       "      <td>0</td>\n",
       "      <td>0</td>\n",
       "      <td>0</td>\n",
       "      <td>0</td>\n",
       "      <td>0</td>\n",
       "      <td>3343543</td>\n",
       "    </tr>\n",
       "    <tr>\n",
       "      <th>6</th>\n",
       "      <td>2015-11-29 09:40:00</td>\n",
       "      <td>BROOKLYN</td>\n",
       "      <td>11210</td>\n",
       "      <td>40.616383</td>\n",
       "      <td>-73.952627</td>\n",
       "      <td>(40.6163833, -73.9526274)</td>\n",
       "      <td>0</td>\n",
       "      <td>0</td>\n",
       "      <td>0</td>\n",
       "      <td>0</td>\n",
       "      <td>0</td>\n",
       "      <td>0</td>\n",
       "      <td>0</td>\n",
       "      <td>0</td>\n",
       "      <td>3343488</td>\n",
       "    </tr>\n",
       "    <tr>\n",
       "      <th>7</th>\n",
       "      <td>2015-11-29 09:35:00</td>\n",
       "      <td>MANHATTAN</td>\n",
       "      <td>10027</td>\n",
       "      <td>40.810934</td>\n",
       "      <td>-73.950600</td>\n",
       "      <td>(40.8109338, -73.9505996)</td>\n",
       "      <td>0</td>\n",
       "      <td>0</td>\n",
       "      <td>0</td>\n",
       "      <td>0</td>\n",
       "      <td>0</td>\n",
       "      <td>0</td>\n",
       "      <td>0</td>\n",
       "      <td>0</td>\n",
       "      <td>3343300</td>\n",
       "    </tr>\n",
       "    <tr>\n",
       "      <th>8</th>\n",
       "      <td>2015-11-29 09:25:00</td>\n",
       "      <td>QUEENS</td>\n",
       "      <td>11367</td>\n",
       "      <td>40.728664</td>\n",
       "      <td>-73.822771</td>\n",
       "      <td>(40.7286635, -73.8227712)</td>\n",
       "      <td>0</td>\n",
       "      <td>0</td>\n",
       "      <td>0</td>\n",
       "      <td>0</td>\n",
       "      <td>0</td>\n",
       "      <td>0</td>\n",
       "      <td>0</td>\n",
       "      <td>0</td>\n",
       "      <td>3343640</td>\n",
       "    </tr>\n",
       "    <tr>\n",
       "      <th>9</th>\n",
       "      <td>2015-11-29 09:23:00</td>\n",
       "      <td>BRONX</td>\n",
       "      <td>10461</td>\n",
       "      <td>40.850304</td>\n",
       "      <td>-73.851368</td>\n",
       "      <td>(40.8503039, -73.8513675)</td>\n",
       "      <td>0</td>\n",
       "      <td>0</td>\n",
       "      <td>0</td>\n",
       "      <td>0</td>\n",
       "      <td>0</td>\n",
       "      <td>0</td>\n",
       "      <td>0</td>\n",
       "      <td>0</td>\n",
       "      <td>3343403</td>\n",
       "    </tr>\n",
       "    <tr>\n",
       "      <th>10</th>\n",
       "      <td>2015-11-29 18:56:00</td>\n",
       "      <td>QUEENS</td>\n",
       "      <td>11372</td>\n",
       "      <td>40.748863</td>\n",
       "      <td>-73.892709</td>\n",
       "      <td>(40.7488634, -73.8927087)</td>\n",
       "      <td>0</td>\n",
       "      <td>0</td>\n",
       "      <td>0</td>\n",
       "      <td>0</td>\n",
       "      <td>0</td>\n",
       "      <td>0</td>\n",
       "      <td>0</td>\n",
       "      <td>0</td>\n",
       "      <td>3344267</td>\n",
       "    </tr>\n",
       "    <tr>\n",
       "      <th>13</th>\n",
       "      <td>2015-11-29 09:06:00</td>\n",
       "      <td>MANHATTAN</td>\n",
       "      <td>10018</td>\n",
       "      <td>40.761391</td>\n",
       "      <td>-74.001736</td>\n",
       "      <td>(40.761391, -74.0017363)</td>\n",
       "      <td>0</td>\n",
       "      <td>0</td>\n",
       "      <td>0</td>\n",
       "      <td>0</td>\n",
       "      <td>0</td>\n",
       "      <td>0</td>\n",
       "      <td>0</td>\n",
       "      <td>0</td>\n",
       "      <td>3343227</td>\n",
       "    </tr>\n",
       "    <tr>\n",
       "      <th>14</th>\n",
       "      <td>2015-11-29 19:00:00</td>\n",
       "      <td>BROOKLYN</td>\n",
       "      <td>11226</td>\n",
       "      <td>40.640945</td>\n",
       "      <td>-73.948513</td>\n",
       "      <td>(40.6409447, -73.948513)</td>\n",
       "      <td>1</td>\n",
       "      <td>0</td>\n",
       "      <td>1</td>\n",
       "      <td>0</td>\n",
       "      <td>0</td>\n",
       "      <td>0</td>\n",
       "      <td>0</td>\n",
       "      <td>0</td>\n",
       "      <td>3344002</td>\n",
       "    </tr>\n",
       "    <tr>\n",
       "      <th>17</th>\n",
       "      <td>2015-11-29 09:00:00</td>\n",
       "      <td>BROOKLYN</td>\n",
       "      <td>11237</td>\n",
       "      <td>40.699694</td>\n",
       "      <td>-73.915566</td>\n",
       "      <td>(40.6996936, -73.9155661)</td>\n",
       "      <td>0</td>\n",
       "      <td>0</td>\n",
       "      <td>0</td>\n",
       "      <td>0</td>\n",
       "      <td>0</td>\n",
       "      <td>0</td>\n",
       "      <td>0</td>\n",
       "      <td>0</td>\n",
       "      <td>3344077</td>\n",
       "    </tr>\n",
       "    <tr>\n",
       "      <th>18</th>\n",
       "      <td>2015-11-29 08:57:00</td>\n",
       "      <td>BRONX</td>\n",
       "      <td>10467</td>\n",
       "      <td>40.883633</td>\n",
       "      <td>-73.885164</td>\n",
       "      <td>(40.8836329, -73.8851644)</td>\n",
       "      <td>0</td>\n",
       "      <td>0</td>\n",
       "      <td>0</td>\n",
       "      <td>0</td>\n",
       "      <td>0</td>\n",
       "      <td>0</td>\n",
       "      <td>0</td>\n",
       "      <td>0</td>\n",
       "      <td>3343968</td>\n",
       "    </tr>\n",
       "    <tr>\n",
       "      <th>20</th>\n",
       "      <td>2015-11-29 19:10:00</td>\n",
       "      <td>MANHATTAN</td>\n",
       "      <td>10016</td>\n",
       "      <td>40.748540</td>\n",
       "      <td>-73.973141</td>\n",
       "      <td>(40.7485397, -73.9731412)</td>\n",
       "      <td>0</td>\n",
       "      <td>0</td>\n",
       "      <td>0</td>\n",
       "      <td>0</td>\n",
       "      <td>0</td>\n",
       "      <td>0</td>\n",
       "      <td>0</td>\n",
       "      <td>0</td>\n",
       "      <td>3343817</td>\n",
       "    </tr>\n",
       "    <tr>\n",
       "      <th>22</th>\n",
       "      <td>2015-11-29 19:10:00</td>\n",
       "      <td>BROOKLYN</td>\n",
       "      <td>11206</td>\n",
       "      <td>40.694964</td>\n",
       "      <td>-73.946225</td>\n",
       "      <td>(40.6949636, -73.9462246)</td>\n",
       "      <td>1</td>\n",
       "      <td>0</td>\n",
       "      <td>0</td>\n",
       "      <td>0</td>\n",
       "      <td>1</td>\n",
       "      <td>0</td>\n",
       "      <td>0</td>\n",
       "      <td>0</td>\n",
       "      <td>3344061</td>\n",
       "    </tr>\n",
       "    <tr>\n",
       "      <th>23</th>\n",
       "      <td>2015-11-29 08:50:00</td>\n",
       "      <td>MANHATTAN</td>\n",
       "      <td>10033</td>\n",
       "      <td>40.847429</td>\n",
       "      <td>-73.931394</td>\n",
       "      <td>(40.8474287, -73.9313942)</td>\n",
       "      <td>0</td>\n",
       "      <td>0</td>\n",
       "      <td>0</td>\n",
       "      <td>0</td>\n",
       "      <td>0</td>\n",
       "      <td>0</td>\n",
       "      <td>0</td>\n",
       "      <td>0</td>\n",
       "      <td>3343313</td>\n",
       "    </tr>\n",
       "    <tr>\n",
       "      <th>24</th>\n",
       "      <td>2015-11-29 08:50:00</td>\n",
       "      <td>MANHATTAN</td>\n",
       "      <td>10011</td>\n",
       "      <td>40.742285</td>\n",
       "      <td>-74.004417</td>\n",
       "      <td>(40.7422847, -74.0044171)</td>\n",
       "      <td>0</td>\n",
       "      <td>0</td>\n",
       "      <td>0</td>\n",
       "      <td>0</td>\n",
       "      <td>0</td>\n",
       "      <td>0</td>\n",
       "      <td>0</td>\n",
       "      <td>0</td>\n",
       "      <td>3343226</td>\n",
       "    </tr>\n",
       "    <tr>\n",
       "      <th>25</th>\n",
       "      <td>2015-11-29 08:45:00</td>\n",
       "      <td>BROOKLYN</td>\n",
       "      <td>11222</td>\n",
       "      <td>40.726260</td>\n",
       "      <td>-73.955219</td>\n",
       "      <td>(40.7262605, -73.9552191)</td>\n",
       "      <td>0</td>\n",
       "      <td>0</td>\n",
       "      <td>0</td>\n",
       "      <td>0</td>\n",
       "      <td>0</td>\n",
       "      <td>0</td>\n",
       "      <td>0</td>\n",
       "      <td>0</td>\n",
       "      <td>3344773</td>\n",
       "    </tr>\n",
       "    <tr>\n",
       "      <th>26</th>\n",
       "      <td>2015-11-29 08:45:00</td>\n",
       "      <td>BROOKLYN</td>\n",
       "      <td>11205</td>\n",
       "      <td>40.691017</td>\n",
       "      <td>-73.954468</td>\n",
       "      <td>(40.6910174, -73.9544675)</td>\n",
       "      <td>0</td>\n",
       "      <td>0</td>\n",
       "      <td>0</td>\n",
       "      <td>0</td>\n",
       "      <td>0</td>\n",
       "      <td>0</td>\n",
       "      <td>0</td>\n",
       "      <td>0</td>\n",
       "      <td>3344057</td>\n",
       "    </tr>\n",
       "    <tr>\n",
       "      <th>27</th>\n",
       "      <td>2015-11-29 19:15:00</td>\n",
       "      <td>BRONX</td>\n",
       "      <td>10455</td>\n",
       "      <td>40.814268</td>\n",
       "      <td>-73.912953</td>\n",
       "      <td>(40.8142683, -73.9129533)</td>\n",
       "      <td>1</td>\n",
       "      <td>0</td>\n",
       "      <td>0</td>\n",
       "      <td>0</td>\n",
       "      <td>1</td>\n",
       "      <td>0</td>\n",
       "      <td>0</td>\n",
       "      <td>0</td>\n",
       "      <td>3344438</td>\n",
       "    </tr>\n",
       "    <tr>\n",
       "      <th>29</th>\n",
       "      <td>2015-11-29 08:30:00</td>\n",
       "      <td>QUEENS</td>\n",
       "      <td>11377</td>\n",
       "      <td>40.746238</td>\n",
       "      <td>-73.897224</td>\n",
       "      <td>(40.7462381, -73.8972242)</td>\n",
       "      <td>0</td>\n",
       "      <td>0</td>\n",
       "      <td>0</td>\n",
       "      <td>0</td>\n",
       "      <td>0</td>\n",
       "      <td>0</td>\n",
       "      <td>0</td>\n",
       "      <td>0</td>\n",
       "      <td>3343660</td>\n",
       "    </tr>\n",
       "    <tr>\n",
       "      <th>30</th>\n",
       "      <td>2015-11-29 08:20:00</td>\n",
       "      <td>QUEENS</td>\n",
       "      <td>11422</td>\n",
       "      <td>40.670816</td>\n",
       "      <td>-73.730391</td>\n",
       "      <td>(40.6708164, -73.730391)</td>\n",
       "      <td>0</td>\n",
       "      <td>0</td>\n",
       "      <td>0</td>\n",
       "      <td>0</td>\n",
       "      <td>0</td>\n",
       "      <td>0</td>\n",
       "      <td>0</td>\n",
       "      <td>0</td>\n",
       "      <td>3343604</td>\n",
       "    </tr>\n",
       "    <tr>\n",
       "      <th>32</th>\n",
       "      <td>2015-11-29 08:10:00</td>\n",
       "      <td>BRONX</td>\n",
       "      <td>10454</td>\n",
       "      <td>40.810053</td>\n",
       "      <td>-73.925144</td>\n",
       "      <td>(40.8100528, -73.9251435)</td>\n",
       "      <td>0</td>\n",
       "      <td>0</td>\n",
       "      <td>0</td>\n",
       "      <td>0</td>\n",
       "      <td>0</td>\n",
       "      <td>0</td>\n",
       "      <td>0</td>\n",
       "      <td>0</td>\n",
       "      <td>3343893</td>\n",
       "    </tr>\n",
       "    <tr>\n",
       "      <th>33</th>\n",
       "      <td>2015-11-29 08:03:00</td>\n",
       "      <td>BROOKLYN</td>\n",
       "      <td>11236</td>\n",
       "      <td>40.633436</td>\n",
       "      <td>-73.882889</td>\n",
       "      <td>(40.6334362, -73.8828892)</td>\n",
       "      <td>0</td>\n",
       "      <td>0</td>\n",
       "      <td>0</td>\n",
       "      <td>0</td>\n",
       "      <td>0</td>\n",
       "      <td>0</td>\n",
       "      <td>0</td>\n",
       "      <td>0</td>\n",
       "      <td>3343478</td>\n",
       "    </tr>\n",
       "    <tr>\n",
       "      <th>35</th>\n",
       "      <td>2015-11-29 08:00:00</td>\n",
       "      <td>QUEENS</td>\n",
       "      <td>11362</td>\n",
       "      <td>40.760561</td>\n",
       "      <td>-73.728815</td>\n",
       "      <td>(40.7605613, -73.7288149)</td>\n",
       "      <td>0</td>\n",
       "      <td>0</td>\n",
       "      <td>0</td>\n",
       "      <td>0</td>\n",
       "      <td>0</td>\n",
       "      <td>0</td>\n",
       "      <td>0</td>\n",
       "      <td>0</td>\n",
       "      <td>3343684</td>\n",
       "    </tr>\n",
       "    <tr>\n",
       "      <th>36</th>\n",
       "      <td>2015-11-29 08:00:00</td>\n",
       "      <td>QUEENS</td>\n",
       "      <td>11362</td>\n",
       "      <td>40.760561</td>\n",
       "      <td>-73.728815</td>\n",
       "      <td>(40.7605613, -73.7288149)</td>\n",
       "      <td>0</td>\n",
       "      <td>0</td>\n",
       "      <td>0</td>\n",
       "      <td>0</td>\n",
       "      <td>0</td>\n",
       "      <td>0</td>\n",
       "      <td>0</td>\n",
       "      <td>0</td>\n",
       "      <td>3343683</td>\n",
       "    </tr>\n",
       "    <tr>\n",
       "      <th>37</th>\n",
       "      <td>2015-11-29 08:00:00</td>\n",
       "      <td>MANHATTAN</td>\n",
       "      <td>10025</td>\n",
       "      <td>40.799916</td>\n",
       "      <td>-73.962375</td>\n",
       "      <td>(40.7999155, -73.9623752)</td>\n",
       "      <td>0</td>\n",
       "      <td>0</td>\n",
       "      <td>0</td>\n",
       "      <td>0</td>\n",
       "      <td>0</td>\n",
       "      <td>0</td>\n",
       "      <td>0</td>\n",
       "      <td>0</td>\n",
       "      <td>3343287</td>\n",
       "    </tr>\n",
       "    <tr>\n",
       "      <th>38</th>\n",
       "      <td>2015-11-29 07:50:00</td>\n",
       "      <td>MANHATTAN</td>\n",
       "      <td>10002</td>\n",
       "      <td>40.717724</td>\n",
       "      <td>-73.985765</td>\n",
       "      <td>(40.7177239, -73.9857652)</td>\n",
       "      <td>0</td>\n",
       "      <td>0</td>\n",
       "      <td>0</td>\n",
       "      <td>0</td>\n",
       "      <td>0</td>\n",
       "      <td>0</td>\n",
       "      <td>0</td>\n",
       "      <td>0</td>\n",
       "      <td>3343212</td>\n",
       "    </tr>\n",
       "    <tr>\n",
       "      <th>39</th>\n",
       "      <td>2015-11-29 07:05:00</td>\n",
       "      <td>QUEENS</td>\n",
       "      <td>11434</td>\n",
       "      <td>40.687753</td>\n",
       "      <td>-73.790384</td>\n",
       "      <td>(40.6877531, -73.7903844)</td>\n",
       "      <td>2</td>\n",
       "      <td>0</td>\n",
       "      <td>0</td>\n",
       "      <td>0</td>\n",
       "      <td>0</td>\n",
       "      <td>0</td>\n",
       "      <td>2</td>\n",
       "      <td>0</td>\n",
       "      <td>3343714</td>\n",
       "    </tr>\n",
       "    <tr>\n",
       "      <th>42</th>\n",
       "      <td>2015-11-29 06:30:00</td>\n",
       "      <td>BROOKLYN</td>\n",
       "      <td>11212</td>\n",
       "      <td>40.654313</td>\n",
       "      <td>-73.917577</td>\n",
       "      <td>(40.654313, -73.9175769)</td>\n",
       "      <td>1</td>\n",
       "      <td>0</td>\n",
       "      <td>1</td>\n",
       "      <td>0</td>\n",
       "      <td>0</td>\n",
       "      <td>0</td>\n",
       "      <td>0</td>\n",
       "      <td>0</td>\n",
       "      <td>3343453</td>\n",
       "    </tr>\n",
       "    <tr>\n",
       "      <th>44</th>\n",
       "      <td>2015-11-29 06:15:00</td>\n",
       "      <td>QUEENS</td>\n",
       "      <td>11355</td>\n",
       "      <td>40.758192</td>\n",
       "      <td>-73.823176</td>\n",
       "      <td>(40.7581922, -73.8231763)</td>\n",
       "      <td>0</td>\n",
       "      <td>0</td>\n",
       "      <td>0</td>\n",
       "      <td>0</td>\n",
       "      <td>0</td>\n",
       "      <td>0</td>\n",
       "      <td>0</td>\n",
       "      <td>0</td>\n",
       "      <td>3344180</td>\n",
       "    </tr>\n",
       "    <tr>\n",
       "      <th>...</th>\n",
       "      <td>...</td>\n",
       "      <td>...</td>\n",
       "      <td>...</td>\n",
       "      <td>...</td>\n",
       "      <td>...</td>\n",
       "      <td>...</td>\n",
       "      <td>...</td>\n",
       "      <td>...</td>\n",
       "      <td>...</td>\n",
       "      <td>...</td>\n",
       "      <td>...</td>\n",
       "      <td>...</td>\n",
       "      <td>...</td>\n",
       "      <td>...</td>\n",
       "      <td>...</td>\n",
       "    </tr>\n",
       "    <tr>\n",
       "      <th>707966</th>\n",
       "      <td>2012-07-01 15:35:00</td>\n",
       "      <td>QUEENS</td>\n",
       "      <td>11419</td>\n",
       "      <td>40.691359</td>\n",
       "      <td>-73.837536</td>\n",
       "      <td>(40.6913591, -73.8375359)</td>\n",
       "      <td>0</td>\n",
       "      <td>0</td>\n",
       "      <td>0</td>\n",
       "      <td>0</td>\n",
       "      <td>0</td>\n",
       "      <td>0</td>\n",
       "      <td>0</td>\n",
       "      <td>0</td>\n",
       "      <td>203694</td>\n",
       "    </tr>\n",
       "    <tr>\n",
       "      <th>707967</th>\n",
       "      <td>2012-07-01 15:40:00</td>\n",
       "      <td>MANHATTAN</td>\n",
       "      <td>10001</td>\n",
       "      <td>40.753387</td>\n",
       "      <td>-73.996304</td>\n",
       "      <td>(40.7533873, -73.996304)</td>\n",
       "      <td>0</td>\n",
       "      <td>0</td>\n",
       "      <td>0</td>\n",
       "      <td>0</td>\n",
       "      <td>0</td>\n",
       "      <td>0</td>\n",
       "      <td>0</td>\n",
       "      <td>0</td>\n",
       "      <td>16533</td>\n",
       "    </tr>\n",
       "    <tr>\n",
       "      <th>707968</th>\n",
       "      <td>2012-07-01 15:05:00</td>\n",
       "      <td>MANHATTAN</td>\n",
       "      <td>10012</td>\n",
       "      <td>40.721576</td>\n",
       "      <td>-73.997760</td>\n",
       "      <td>(40.7215756, -73.9977597)</td>\n",
       "      <td>0</td>\n",
       "      <td>0</td>\n",
       "      <td>0</td>\n",
       "      <td>0</td>\n",
       "      <td>0</td>\n",
       "      <td>0</td>\n",
       "      <td>0</td>\n",
       "      <td>0</td>\n",
       "      <td>5297</td>\n",
       "    </tr>\n",
       "    <tr>\n",
       "      <th>707969</th>\n",
       "      <td>2012-07-01 15:40:00</td>\n",
       "      <td>MANHATTAN</td>\n",
       "      <td>10065</td>\n",
       "      <td>40.768647</td>\n",
       "      <td>-73.969826</td>\n",
       "      <td>(40.7686469, -73.9698262)</td>\n",
       "      <td>0</td>\n",
       "      <td>0</td>\n",
       "      <td>0</td>\n",
       "      <td>0</td>\n",
       "      <td>0</td>\n",
       "      <td>0</td>\n",
       "      <td>0</td>\n",
       "      <td>0</td>\n",
       "      <td>44913</td>\n",
       "    </tr>\n",
       "    <tr>\n",
       "      <th>707971</th>\n",
       "      <td>2012-07-01 16:40:00</td>\n",
       "      <td>BRONX</td>\n",
       "      <td>10452</td>\n",
       "      <td>40.842752</td>\n",
       "      <td>-73.922819</td>\n",
       "      <td>(40.8427518, -73.9228189)</td>\n",
       "      <td>0</td>\n",
       "      <td>0</td>\n",
       "      <td>0</td>\n",
       "      <td>0</td>\n",
       "      <td>0</td>\n",
       "      <td>0</td>\n",
       "      <td>0</td>\n",
       "      <td>0</td>\n",
       "      <td>85166</td>\n",
       "    </tr>\n",
       "    <tr>\n",
       "      <th>707972</th>\n",
       "      <td>2012-07-01 15:00:00</td>\n",
       "      <td>QUEENS</td>\n",
       "      <td>11364</td>\n",
       "      <td>40.750591</td>\n",
       "      <td>-73.778118</td>\n",
       "      <td>(40.7505908, -73.7781175)</td>\n",
       "      <td>0</td>\n",
       "      <td>0</td>\n",
       "      <td>0</td>\n",
       "      <td>0</td>\n",
       "      <td>0</td>\n",
       "      <td>0</td>\n",
       "      <td>0</td>\n",
       "      <td>0</td>\n",
       "      <td>259355</td>\n",
       "    </tr>\n",
       "    <tr>\n",
       "      <th>707974</th>\n",
       "      <td>2012-07-01 15:45:00</td>\n",
       "      <td>BRONX</td>\n",
       "      <td>10456</td>\n",
       "      <td>40.830536</td>\n",
       "      <td>-73.915700</td>\n",
       "      <td>(40.8305356, -73.9157)</td>\n",
       "      <td>0</td>\n",
       "      <td>0</td>\n",
       "      <td>0</td>\n",
       "      <td>0</td>\n",
       "      <td>0</td>\n",
       "      <td>0</td>\n",
       "      <td>0</td>\n",
       "      <td>0</td>\n",
       "      <td>85164</td>\n",
       "    </tr>\n",
       "    <tr>\n",
       "      <th>707976</th>\n",
       "      <td>2012-07-01 15:00:00</td>\n",
       "      <td>MANHATTAN</td>\n",
       "      <td>10023</td>\n",
       "      <td>40.775481</td>\n",
       "      <td>-73.980203</td>\n",
       "      <td>(40.7754808, -73.9802034)</td>\n",
       "      <td>0</td>\n",
       "      <td>0</td>\n",
       "      <td>0</td>\n",
       "      <td>0</td>\n",
       "      <td>0</td>\n",
       "      <td>0</td>\n",
       "      <td>0</td>\n",
       "      <td>0</td>\n",
       "      <td>52338</td>\n",
       "    </tr>\n",
       "    <tr>\n",
       "      <th>707978</th>\n",
       "      <td>2012-07-01 18:00:00</td>\n",
       "      <td>BRONX</td>\n",
       "      <td>10475</td>\n",
       "      <td>40.868771</td>\n",
       "      <td>-73.831733</td>\n",
       "      <td>(40.8687708, -73.8317333)</td>\n",
       "      <td>2</td>\n",
       "      <td>0</td>\n",
       "      <td>0</td>\n",
       "      <td>0</td>\n",
       "      <td>0</td>\n",
       "      <td>0</td>\n",
       "      <td>2</td>\n",
       "      <td>0</td>\n",
       "      <td>88542</td>\n",
       "    </tr>\n",
       "    <tr>\n",
       "      <th>707979</th>\n",
       "      <td>2012-07-01 15:00:00</td>\n",
       "      <td>BROOKLYN</td>\n",
       "      <td>11207</td>\n",
       "      <td>40.676769</td>\n",
       "      <td>-73.889483</td>\n",
       "      <td>(40.6767691, -73.8894827)</td>\n",
       "      <td>0</td>\n",
       "      <td>0</td>\n",
       "      <td>0</td>\n",
       "      <td>0</td>\n",
       "      <td>0</td>\n",
       "      <td>0</td>\n",
       "      <td>0</td>\n",
       "      <td>0</td>\n",
       "      <td>163375</td>\n",
       "    </tr>\n",
       "    <tr>\n",
       "      <th>707980</th>\n",
       "      <td>2012-07-01 14:58:00</td>\n",
       "      <td>QUEENS</td>\n",
       "      <td>11365</td>\n",
       "      <td>40.733596</td>\n",
       "      <td>-73.794624</td>\n",
       "      <td>(40.7335957, -73.7946243)</td>\n",
       "      <td>0</td>\n",
       "      <td>0</td>\n",
       "      <td>0</td>\n",
       "      <td>0</td>\n",
       "      <td>0</td>\n",
       "      <td>0</td>\n",
       "      <td>0</td>\n",
       "      <td>0</td>\n",
       "      <td>233143</td>\n",
       "    </tr>\n",
       "    <tr>\n",
       "      <th>707981</th>\n",
       "      <td>2012-07-01 14:57:00</td>\n",
       "      <td>MANHATTAN</td>\n",
       "      <td>10029</td>\n",
       "      <td>40.786808</td>\n",
       "      <td>-73.945230</td>\n",
       "      <td>(40.786808, -73.9452296)</td>\n",
       "      <td>0</td>\n",
       "      <td>0</td>\n",
       "      <td>0</td>\n",
       "      <td>0</td>\n",
       "      <td>0</td>\n",
       "      <td>0</td>\n",
       "      <td>0</td>\n",
       "      <td>0</td>\n",
       "      <td>55551</td>\n",
       "    </tr>\n",
       "    <tr>\n",
       "      <th>707982</th>\n",
       "      <td>2012-07-01 18:40:00</td>\n",
       "      <td>BRONX</td>\n",
       "      <td>10454</td>\n",
       "      <td>40.801665</td>\n",
       "      <td>-73.913223</td>\n",
       "      <td>(40.8016648, -73.9132226)</td>\n",
       "      <td>0</td>\n",
       "      <td>0</td>\n",
       "      <td>0</td>\n",
       "      <td>0</td>\n",
       "      <td>0</td>\n",
       "      <td>0</td>\n",
       "      <td>0</td>\n",
       "      <td>0</td>\n",
       "      <td>72590</td>\n",
       "    </tr>\n",
       "    <tr>\n",
       "      <th>707983</th>\n",
       "      <td>2012-07-01 18:40:00</td>\n",
       "      <td>BROOKLYN</td>\n",
       "      <td>11203</td>\n",
       "      <td>40.641604</td>\n",
       "      <td>-73.938012</td>\n",
       "      <td>(40.6416037, -73.9380125)</td>\n",
       "      <td>0</td>\n",
       "      <td>0</td>\n",
       "      <td>0</td>\n",
       "      <td>0</td>\n",
       "      <td>0</td>\n",
       "      <td>0</td>\n",
       "      <td>0</td>\n",
       "      <td>0</td>\n",
       "      <td>135044</td>\n",
       "    </tr>\n",
       "    <tr>\n",
       "      <th>707985</th>\n",
       "      <td>2012-07-01 15:50:00</td>\n",
       "      <td>BROOKLYN</td>\n",
       "      <td>11226</td>\n",
       "      <td>40.655593</td>\n",
       "      <td>-73.947157</td>\n",
       "      <td>(40.655593, -73.9471574)</td>\n",
       "      <td>0</td>\n",
       "      <td>0</td>\n",
       "      <td>0</td>\n",
       "      <td>0</td>\n",
       "      <td>0</td>\n",
       "      <td>0</td>\n",
       "      <td>0</td>\n",
       "      <td>0</td>\n",
       "      <td>135042</td>\n",
       "    </tr>\n",
       "    <tr>\n",
       "      <th>707986</th>\n",
       "      <td>2012-07-01 15:50:00</td>\n",
       "      <td>STATEN ISLAND</td>\n",
       "      <td>10306</td>\n",
       "      <td>40.564974</td>\n",
       "      <td>-74.133299</td>\n",
       "      <td>(40.5649742, -74.1332986)</td>\n",
       "      <td>0</td>\n",
       "      <td>0</td>\n",
       "      <td>0</td>\n",
       "      <td>0</td>\n",
       "      <td>0</td>\n",
       "      <td>0</td>\n",
       "      <td>0</td>\n",
       "      <td>0</td>\n",
       "      <td>293140</td>\n",
       "    </tr>\n",
       "    <tr>\n",
       "      <th>707987</th>\n",
       "      <td>2012-07-01 15:53:00</td>\n",
       "      <td>BROOKLYN</td>\n",
       "      <td>11224</td>\n",
       "      <td>40.575452</td>\n",
       "      <td>-73.995382</td>\n",
       "      <td>(40.5754516, -73.9953816)</td>\n",
       "      <td>0</td>\n",
       "      <td>0</td>\n",
       "      <td>0</td>\n",
       "      <td>0</td>\n",
       "      <td>0</td>\n",
       "      <td>0</td>\n",
       "      <td>0</td>\n",
       "      <td>0</td>\n",
       "      <td>113534</td>\n",
       "    </tr>\n",
       "    <tr>\n",
       "      <th>707988</th>\n",
       "      <td>2012-07-01 15:55:00</td>\n",
       "      <td>MANHATTAN</td>\n",
       "      <td>10021</td>\n",
       "      <td>40.769750</td>\n",
       "      <td>-73.960602</td>\n",
       "      <td>(40.7697502, -73.9606016)</td>\n",
       "      <td>1</td>\n",
       "      <td>0</td>\n",
       "      <td>1</td>\n",
       "      <td>0</td>\n",
       "      <td>0</td>\n",
       "      <td>0</td>\n",
       "      <td>0</td>\n",
       "      <td>0</td>\n",
       "      <td>44915</td>\n",
       "    </tr>\n",
       "    <tr>\n",
       "      <th>707989</th>\n",
       "      <td>2012-07-01 19:10:00</td>\n",
       "      <td>QUEENS</td>\n",
       "      <td>11377</td>\n",
       "      <td>40.734864</td>\n",
       "      <td>-73.906609</td>\n",
       "      <td>(40.7348636, -73.906609)</td>\n",
       "      <td>0</td>\n",
       "      <td>0</td>\n",
       "      <td>0</td>\n",
       "      <td>0</td>\n",
       "      <td>0</td>\n",
       "      <td>0</td>\n",
       "      <td>0</td>\n",
       "      <td>0</td>\n",
       "      <td>238645</td>\n",
       "    </tr>\n",
       "    <tr>\n",
       "      <th>707990</th>\n",
       "      <td>2012-07-01 09:40:00</td>\n",
       "      <td>QUEENS</td>\n",
       "      <td>11369</td>\n",
       "      <td>40.767470</td>\n",
       "      <td>-73.881859</td>\n",
       "      <td>(40.7674704, -73.8818593)</td>\n",
       "      <td>0</td>\n",
       "      <td>0</td>\n",
       "      <td>0</td>\n",
       "      <td>0</td>\n",
       "      <td>0</td>\n",
       "      <td>0</td>\n",
       "      <td>0</td>\n",
       "      <td>0</td>\n",
       "      <td>279641</td>\n",
       "    </tr>\n",
       "    <tr>\n",
       "      <th>707992</th>\n",
       "      <td>2012-07-01 16:00:00</td>\n",
       "      <td>MANHATTAN</td>\n",
       "      <td>10012</td>\n",
       "      <td>40.722355</td>\n",
       "      <td>-73.993261</td>\n",
       "      <td>(40.722355, -73.9932609)</td>\n",
       "      <td>0</td>\n",
       "      <td>0</td>\n",
       "      <td>0</td>\n",
       "      <td>0</td>\n",
       "      <td>0</td>\n",
       "      <td>0</td>\n",
       "      <td>0</td>\n",
       "      <td>0</td>\n",
       "      <td>5299</td>\n",
       "    </tr>\n",
       "    <tr>\n",
       "      <th>707993</th>\n",
       "      <td>2012-07-01 16:00:00</td>\n",
       "      <td>MANHATTAN</td>\n",
       "      <td>10022</td>\n",
       "      <td>40.758537</td>\n",
       "      <td>-73.977202</td>\n",
       "      <td>(40.758537, -73.9772016)</td>\n",
       "      <td>0</td>\n",
       "      <td>0</td>\n",
       "      <td>0</td>\n",
       "      <td>0</td>\n",
       "      <td>0</td>\n",
       "      <td>0</td>\n",
       "      <td>0</td>\n",
       "      <td>0</td>\n",
       "      <td>37641</td>\n",
       "    </tr>\n",
       "    <tr>\n",
       "      <th>707994</th>\n",
       "      <td>2012-07-01 16:00:00</td>\n",
       "      <td>QUEENS</td>\n",
       "      <td>11422</td>\n",
       "      <td>40.664748</td>\n",
       "      <td>-73.740018</td>\n",
       "      <td>(40.6647479, -73.7400181)</td>\n",
       "      <td>0</td>\n",
       "      <td>0</td>\n",
       "      <td>0</td>\n",
       "      <td>0</td>\n",
       "      <td>0</td>\n",
       "      <td>0</td>\n",
       "      <td>0</td>\n",
       "      <td>0</td>\n",
       "      <td>219399</td>\n",
       "    </tr>\n",
       "    <tr>\n",
       "      <th>707998</th>\n",
       "      <td>2012-07-01 14:55:00</td>\n",
       "      <td>QUEENS</td>\n",
       "      <td>11354</td>\n",
       "      <td>40.764711</td>\n",
       "      <td>-73.830686</td>\n",
       "      <td>(40.7647112, -73.8306857)</td>\n",
       "      <td>0</td>\n",
       "      <td>0</td>\n",
       "      <td>0</td>\n",
       "      <td>0</td>\n",
       "      <td>0</td>\n",
       "      <td>0</td>\n",
       "      <td>0</td>\n",
       "      <td>0</td>\n",
       "      <td>245581</td>\n",
       "    </tr>\n",
       "    <tr>\n",
       "      <th>707999</th>\n",
       "      <td>2012-07-01 19:30:00</td>\n",
       "      <td>QUEENS</td>\n",
       "      <td>11367</td>\n",
       "      <td>40.742005</td>\n",
       "      <td>-73.827874</td>\n",
       "      <td>(40.7420052, -73.8278745)</td>\n",
       "      <td>0</td>\n",
       "      <td>0</td>\n",
       "      <td>0</td>\n",
       "      <td>0</td>\n",
       "      <td>0</td>\n",
       "      <td>0</td>\n",
       "      <td>0</td>\n",
       "      <td>0</td>\n",
       "      <td>245564</td>\n",
       "    </tr>\n",
       "    <tr>\n",
       "      <th>708000</th>\n",
       "      <td>2012-07-01 16:00:00</td>\n",
       "      <td>STATEN ISLAND</td>\n",
       "      <td>10305</td>\n",
       "      <td>40.615643</td>\n",
       "      <td>-74.067283</td>\n",
       "      <td>(40.6156433, -74.0672834)</td>\n",
       "      <td>0</td>\n",
       "      <td>0</td>\n",
       "      <td>0</td>\n",
       "      <td>0</td>\n",
       "      <td>0</td>\n",
       "      <td>0</td>\n",
       "      <td>0</td>\n",
       "      <td>0</td>\n",
       "      <td>284662</td>\n",
       "    </tr>\n",
       "    <tr>\n",
       "      <th>708003</th>\n",
       "      <td>2012-07-01 16:32:00</td>\n",
       "      <td>QUEENS</td>\n",
       "      <td>11433</td>\n",
       "      <td>40.690286</td>\n",
       "      <td>-73.791382</td>\n",
       "      <td>(40.6902856, -73.7913825)</td>\n",
       "      <td>0</td>\n",
       "      <td>0</td>\n",
       "      <td>0</td>\n",
       "      <td>0</td>\n",
       "      <td>0</td>\n",
       "      <td>0</td>\n",
       "      <td>0</td>\n",
       "      <td>0</td>\n",
       "      <td>268106</td>\n",
       "    </tr>\n",
       "    <tr>\n",
       "      <th>708004</th>\n",
       "      <td>2012-07-01 16:01:00</td>\n",
       "      <td>QUEENS</td>\n",
       "      <td>11106</td>\n",
       "      <td>40.762824</td>\n",
       "      <td>-73.920284</td>\n",
       "      <td>(40.7628236, -73.9202836)</td>\n",
       "      <td>4</td>\n",
       "      <td>0</td>\n",
       "      <td>0</td>\n",
       "      <td>0</td>\n",
       "      <td>0</td>\n",
       "      <td>0</td>\n",
       "      <td>4</td>\n",
       "      <td>0</td>\n",
       "      <td>272564</td>\n",
       "    </tr>\n",
       "    <tr>\n",
       "      <th>708005</th>\n",
       "      <td>2012-07-01 16:05:00</td>\n",
       "      <td>BROOKLYN</td>\n",
       "      <td>11234</td>\n",
       "      <td>40.630927</td>\n",
       "      <td>-73.921367</td>\n",
       "      <td>(40.6309273, -73.921367)</td>\n",
       "      <td>0</td>\n",
       "      <td>0</td>\n",
       "      <td>0</td>\n",
       "      <td>0</td>\n",
       "      <td>0</td>\n",
       "      <td>0</td>\n",
       "      <td>0</td>\n",
       "      <td>0</td>\n",
       "      <td>125667</td>\n",
       "    </tr>\n",
       "    <tr>\n",
       "      <th>708006</th>\n",
       "      <td>2012-07-01 14:30:00</td>\n",
       "      <td>STATEN ISLAND</td>\n",
       "      <td>10314</td>\n",
       "      <td>40.608833</td>\n",
       "      <td>-74.121170</td>\n",
       "      <td>(40.6088332, -74.1211698)</td>\n",
       "      <td>0</td>\n",
       "      <td>0</td>\n",
       "      <td>0</td>\n",
       "      <td>0</td>\n",
       "      <td>0</td>\n",
       "      <td>0</td>\n",
       "      <td>0</td>\n",
       "      <td>0</td>\n",
       "      <td>293142</td>\n",
       "    </tr>\n",
       "  </tbody>\n",
       "</table>\n",
       "<p>538159 rows × 15 columns</p>\n",
       "</div>"
      ],
      "text/plain": [
       "                 DATE_TIME        BOROUGH  ZIP_CODE   LATITUDE  LONGITUDE  \\\n",
       "0      2015-11-29 20:35:00      MANHATTAN     10011  40.735914 -74.000848   \n",
       "3      2015-11-29 18:50:00         QUEENS     11434  40.666697 -73.767128   \n",
       "5      2015-11-29 18:55:00       BROOKLYN     11213  40.679368 -73.931325   \n",
       "6      2015-11-29 09:40:00       BROOKLYN     11210  40.616383 -73.952627   \n",
       "7      2015-11-29 09:35:00      MANHATTAN     10027  40.810934 -73.950600   \n",
       "8      2015-11-29 09:25:00         QUEENS     11367  40.728664 -73.822771   \n",
       "9      2015-11-29 09:23:00          BRONX     10461  40.850304 -73.851368   \n",
       "10     2015-11-29 18:56:00         QUEENS     11372  40.748863 -73.892709   \n",
       "13     2015-11-29 09:06:00      MANHATTAN     10018  40.761391 -74.001736   \n",
       "14     2015-11-29 19:00:00       BROOKLYN     11226  40.640945 -73.948513   \n",
       "17     2015-11-29 09:00:00       BROOKLYN     11237  40.699694 -73.915566   \n",
       "18     2015-11-29 08:57:00          BRONX     10467  40.883633 -73.885164   \n",
       "20     2015-11-29 19:10:00      MANHATTAN     10016  40.748540 -73.973141   \n",
       "22     2015-11-29 19:10:00       BROOKLYN     11206  40.694964 -73.946225   \n",
       "23     2015-11-29 08:50:00      MANHATTAN     10033  40.847429 -73.931394   \n",
       "24     2015-11-29 08:50:00      MANHATTAN     10011  40.742285 -74.004417   \n",
       "25     2015-11-29 08:45:00       BROOKLYN     11222  40.726260 -73.955219   \n",
       "26     2015-11-29 08:45:00       BROOKLYN     11205  40.691017 -73.954468   \n",
       "27     2015-11-29 19:15:00          BRONX     10455  40.814268 -73.912953   \n",
       "29     2015-11-29 08:30:00         QUEENS     11377  40.746238 -73.897224   \n",
       "30     2015-11-29 08:20:00         QUEENS     11422  40.670816 -73.730391   \n",
       "32     2015-11-29 08:10:00          BRONX     10454  40.810053 -73.925144   \n",
       "33     2015-11-29 08:03:00       BROOKLYN     11236  40.633436 -73.882889   \n",
       "35     2015-11-29 08:00:00         QUEENS     11362  40.760561 -73.728815   \n",
       "36     2015-11-29 08:00:00         QUEENS     11362  40.760561 -73.728815   \n",
       "37     2015-11-29 08:00:00      MANHATTAN     10025  40.799916 -73.962375   \n",
       "38     2015-11-29 07:50:00      MANHATTAN     10002  40.717724 -73.985765   \n",
       "39     2015-11-29 07:05:00         QUEENS     11434  40.687753 -73.790384   \n",
       "42     2015-11-29 06:30:00       BROOKLYN     11212  40.654313 -73.917577   \n",
       "44     2015-11-29 06:15:00         QUEENS     11355  40.758192 -73.823176   \n",
       "...                    ...            ...       ...        ...        ...   \n",
       "707966 2012-07-01 15:35:00         QUEENS     11419  40.691359 -73.837536   \n",
       "707967 2012-07-01 15:40:00      MANHATTAN     10001  40.753387 -73.996304   \n",
       "707968 2012-07-01 15:05:00      MANHATTAN     10012  40.721576 -73.997760   \n",
       "707969 2012-07-01 15:40:00      MANHATTAN     10065  40.768647 -73.969826   \n",
       "707971 2012-07-01 16:40:00          BRONX     10452  40.842752 -73.922819   \n",
       "707972 2012-07-01 15:00:00         QUEENS     11364  40.750591 -73.778118   \n",
       "707974 2012-07-01 15:45:00          BRONX     10456  40.830536 -73.915700   \n",
       "707976 2012-07-01 15:00:00      MANHATTAN     10023  40.775481 -73.980203   \n",
       "707978 2012-07-01 18:00:00          BRONX     10475  40.868771 -73.831733   \n",
       "707979 2012-07-01 15:00:00       BROOKLYN     11207  40.676769 -73.889483   \n",
       "707980 2012-07-01 14:58:00         QUEENS     11365  40.733596 -73.794624   \n",
       "707981 2012-07-01 14:57:00      MANHATTAN     10029  40.786808 -73.945230   \n",
       "707982 2012-07-01 18:40:00          BRONX     10454  40.801665 -73.913223   \n",
       "707983 2012-07-01 18:40:00       BROOKLYN     11203  40.641604 -73.938012   \n",
       "707985 2012-07-01 15:50:00       BROOKLYN     11226  40.655593 -73.947157   \n",
       "707986 2012-07-01 15:50:00  STATEN ISLAND     10306  40.564974 -74.133299   \n",
       "707987 2012-07-01 15:53:00       BROOKLYN     11224  40.575452 -73.995382   \n",
       "707988 2012-07-01 15:55:00      MANHATTAN     10021  40.769750 -73.960602   \n",
       "707989 2012-07-01 19:10:00         QUEENS     11377  40.734864 -73.906609   \n",
       "707990 2012-07-01 09:40:00         QUEENS     11369  40.767470 -73.881859   \n",
       "707992 2012-07-01 16:00:00      MANHATTAN     10012  40.722355 -73.993261   \n",
       "707993 2012-07-01 16:00:00      MANHATTAN     10022  40.758537 -73.977202   \n",
       "707994 2012-07-01 16:00:00         QUEENS     11422  40.664748 -73.740018   \n",
       "707998 2012-07-01 14:55:00         QUEENS     11354  40.764711 -73.830686   \n",
       "707999 2012-07-01 19:30:00         QUEENS     11367  40.742005 -73.827874   \n",
       "708000 2012-07-01 16:00:00  STATEN ISLAND     10305  40.615643 -74.067283   \n",
       "708003 2012-07-01 16:32:00         QUEENS     11433  40.690286 -73.791382   \n",
       "708004 2012-07-01 16:01:00         QUEENS     11106  40.762824 -73.920284   \n",
       "708005 2012-07-01 16:05:00       BROOKLYN     11234  40.630927 -73.921367   \n",
       "708006 2012-07-01 14:30:00  STATEN ISLAND     10314  40.608833 -74.121170   \n",
       "\n",
       "                         LOCATION  NUMBER_OF_PERSONS_INJURED  \\\n",
       "0        (40.7359142, -74.000848)                          0   \n",
       "3       (40.6666971, -73.7671284)                          0   \n",
       "5       (40.6793681, -73.9313255)                          0   \n",
       "6       (40.6163833, -73.9526274)                          0   \n",
       "7       (40.8109338, -73.9505996)                          0   \n",
       "8       (40.7286635, -73.8227712)                          0   \n",
       "9       (40.8503039, -73.8513675)                          0   \n",
       "10      (40.7488634, -73.8927087)                          0   \n",
       "13       (40.761391, -74.0017363)                          0   \n",
       "14       (40.6409447, -73.948513)                          1   \n",
       "17      (40.6996936, -73.9155661)                          0   \n",
       "18      (40.8836329, -73.8851644)                          0   \n",
       "20      (40.7485397, -73.9731412)                          0   \n",
       "22      (40.6949636, -73.9462246)                          1   \n",
       "23      (40.8474287, -73.9313942)                          0   \n",
       "24      (40.7422847, -74.0044171)                          0   \n",
       "25      (40.7262605, -73.9552191)                          0   \n",
       "26      (40.6910174, -73.9544675)                          0   \n",
       "27      (40.8142683, -73.9129533)                          1   \n",
       "29      (40.7462381, -73.8972242)                          0   \n",
       "30       (40.6708164, -73.730391)                          0   \n",
       "32      (40.8100528, -73.9251435)                          0   \n",
       "33      (40.6334362, -73.8828892)                          0   \n",
       "35      (40.7605613, -73.7288149)                          0   \n",
       "36      (40.7605613, -73.7288149)                          0   \n",
       "37      (40.7999155, -73.9623752)                          0   \n",
       "38      (40.7177239, -73.9857652)                          0   \n",
       "39      (40.6877531, -73.7903844)                          2   \n",
       "42       (40.654313, -73.9175769)                          1   \n",
       "44      (40.7581922, -73.8231763)                          0   \n",
       "...                           ...                        ...   \n",
       "707966  (40.6913591, -73.8375359)                          0   \n",
       "707967   (40.7533873, -73.996304)                          0   \n",
       "707968  (40.7215756, -73.9977597)                          0   \n",
       "707969  (40.7686469, -73.9698262)                          0   \n",
       "707971  (40.8427518, -73.9228189)                          0   \n",
       "707972  (40.7505908, -73.7781175)                          0   \n",
       "707974     (40.8305356, -73.9157)                          0   \n",
       "707976  (40.7754808, -73.9802034)                          0   \n",
       "707978  (40.8687708, -73.8317333)                          2   \n",
       "707979  (40.6767691, -73.8894827)                          0   \n",
       "707980  (40.7335957, -73.7946243)                          0   \n",
       "707981   (40.786808, -73.9452296)                          0   \n",
       "707982  (40.8016648, -73.9132226)                          0   \n",
       "707983  (40.6416037, -73.9380125)                          0   \n",
       "707985   (40.655593, -73.9471574)                          0   \n",
       "707986  (40.5649742, -74.1332986)                          0   \n",
       "707987  (40.5754516, -73.9953816)                          0   \n",
       "707988  (40.7697502, -73.9606016)                          1   \n",
       "707989   (40.7348636, -73.906609)                          0   \n",
       "707990  (40.7674704, -73.8818593)                          0   \n",
       "707992   (40.722355, -73.9932609)                          0   \n",
       "707993   (40.758537, -73.9772016)                          0   \n",
       "707994  (40.6647479, -73.7400181)                          0   \n",
       "707998  (40.7647112, -73.8306857)                          0   \n",
       "707999  (40.7420052, -73.8278745)                          0   \n",
       "708000  (40.6156433, -74.0672834)                          0   \n",
       "708003  (40.6902856, -73.7913825)                          0   \n",
       "708004  (40.7628236, -73.9202836)                          4   \n",
       "708005   (40.6309273, -73.921367)                          0   \n",
       "708006  (40.6088332, -74.1211698)                          0   \n",
       "\n",
       "        NUMBER_OF_PERSONS_KILLED  NUMBER_OF_PEDESTRIANS_INJURED  \\\n",
       "0                              0                              0   \n",
       "3                              0                              0   \n",
       "5                              0                              0   \n",
       "6                              0                              0   \n",
       "7                              0                              0   \n",
       "8                              0                              0   \n",
       "9                              0                              0   \n",
       "10                             0                              0   \n",
       "13                             0                              0   \n",
       "14                             0                              1   \n",
       "17                             0                              0   \n",
       "18                             0                              0   \n",
       "20                             0                              0   \n",
       "22                             0                              0   \n",
       "23                             0                              0   \n",
       "24                             0                              0   \n",
       "25                             0                              0   \n",
       "26                             0                              0   \n",
       "27                             0                              0   \n",
       "29                             0                              0   \n",
       "30                             0                              0   \n",
       "32                             0                              0   \n",
       "33                             0                              0   \n",
       "35                             0                              0   \n",
       "36                             0                              0   \n",
       "37                             0                              0   \n",
       "38                             0                              0   \n",
       "39                             0                              0   \n",
       "42                             0                              1   \n",
       "44                             0                              0   \n",
       "...                          ...                            ...   \n",
       "707966                         0                              0   \n",
       "707967                         0                              0   \n",
       "707968                         0                              0   \n",
       "707969                         0                              0   \n",
       "707971                         0                              0   \n",
       "707972                         0                              0   \n",
       "707974                         0                              0   \n",
       "707976                         0                              0   \n",
       "707978                         0                              0   \n",
       "707979                         0                              0   \n",
       "707980                         0                              0   \n",
       "707981                         0                              0   \n",
       "707982                         0                              0   \n",
       "707983                         0                              0   \n",
       "707985                         0                              0   \n",
       "707986                         0                              0   \n",
       "707987                         0                              0   \n",
       "707988                         0                              1   \n",
       "707989                         0                              0   \n",
       "707990                         0                              0   \n",
       "707992                         0                              0   \n",
       "707993                         0                              0   \n",
       "707994                         0                              0   \n",
       "707998                         0                              0   \n",
       "707999                         0                              0   \n",
       "708000                         0                              0   \n",
       "708003                         0                              0   \n",
       "708004                         0                              0   \n",
       "708005                         0                              0   \n",
       "708006                         0                              0   \n",
       "\n",
       "        NUMBER_OF_PEDESTRIANS_KILLED  NUMBER_OF_CYCLIST_INJURED  \\\n",
       "0                                  0                          0   \n",
       "3                                  0                          0   \n",
       "5                                  0                          0   \n",
       "6                                  0                          0   \n",
       "7                                  0                          0   \n",
       "8                                  0                          0   \n",
       "9                                  0                          0   \n",
       "10                                 0                          0   \n",
       "13                                 0                          0   \n",
       "14                                 0                          0   \n",
       "17                                 0                          0   \n",
       "18                                 0                          0   \n",
       "20                                 0                          0   \n",
       "22                                 0                          1   \n",
       "23                                 0                          0   \n",
       "24                                 0                          0   \n",
       "25                                 0                          0   \n",
       "26                                 0                          0   \n",
       "27                                 0                          1   \n",
       "29                                 0                          0   \n",
       "30                                 0                          0   \n",
       "32                                 0                          0   \n",
       "33                                 0                          0   \n",
       "35                                 0                          0   \n",
       "36                                 0                          0   \n",
       "37                                 0                          0   \n",
       "38                                 0                          0   \n",
       "39                                 0                          0   \n",
       "42                                 0                          0   \n",
       "44                                 0                          0   \n",
       "...                              ...                        ...   \n",
       "707966                             0                          0   \n",
       "707967                             0                          0   \n",
       "707968                             0                          0   \n",
       "707969                             0                          0   \n",
       "707971                             0                          0   \n",
       "707972                             0                          0   \n",
       "707974                             0                          0   \n",
       "707976                             0                          0   \n",
       "707978                             0                          0   \n",
       "707979                             0                          0   \n",
       "707980                             0                          0   \n",
       "707981                             0                          0   \n",
       "707982                             0                          0   \n",
       "707983                             0                          0   \n",
       "707985                             0                          0   \n",
       "707986                             0                          0   \n",
       "707987                             0                          0   \n",
       "707988                             0                          0   \n",
       "707989                             0                          0   \n",
       "707990                             0                          0   \n",
       "707992                             0                          0   \n",
       "707993                             0                          0   \n",
       "707994                             0                          0   \n",
       "707998                             0                          0   \n",
       "707999                             0                          0   \n",
       "708000                             0                          0   \n",
       "708003                             0                          0   \n",
       "708004                             0                          0   \n",
       "708005                             0                          0   \n",
       "708006                             0                          0   \n",
       "\n",
       "        NUMBER_OF_CYCLIST_KILLED  NUMBER_OF_MOTORIST_INJURED  \\\n",
       "0                              0                           0   \n",
       "3                              0                           0   \n",
       "5                              0                           0   \n",
       "6                              0                           0   \n",
       "7                              0                           0   \n",
       "8                              0                           0   \n",
       "9                              0                           0   \n",
       "10                             0                           0   \n",
       "13                             0                           0   \n",
       "14                             0                           0   \n",
       "17                             0                           0   \n",
       "18                             0                           0   \n",
       "20                             0                           0   \n",
       "22                             0                           0   \n",
       "23                             0                           0   \n",
       "24                             0                           0   \n",
       "25                             0                           0   \n",
       "26                             0                           0   \n",
       "27                             0                           0   \n",
       "29                             0                           0   \n",
       "30                             0                           0   \n",
       "32                             0                           0   \n",
       "33                             0                           0   \n",
       "35                             0                           0   \n",
       "36                             0                           0   \n",
       "37                             0                           0   \n",
       "38                             0                           0   \n",
       "39                             0                           2   \n",
       "42                             0                           0   \n",
       "44                             0                           0   \n",
       "...                          ...                         ...   \n",
       "707966                         0                           0   \n",
       "707967                         0                           0   \n",
       "707968                         0                           0   \n",
       "707969                         0                           0   \n",
       "707971                         0                           0   \n",
       "707972                         0                           0   \n",
       "707974                         0                           0   \n",
       "707976                         0                           0   \n",
       "707978                         0                           2   \n",
       "707979                         0                           0   \n",
       "707980                         0                           0   \n",
       "707981                         0                           0   \n",
       "707982                         0                           0   \n",
       "707983                         0                           0   \n",
       "707985                         0                           0   \n",
       "707986                         0                           0   \n",
       "707987                         0                           0   \n",
       "707988                         0                           0   \n",
       "707989                         0                           0   \n",
       "707990                         0                           0   \n",
       "707992                         0                           0   \n",
       "707993                         0                           0   \n",
       "707994                         0                           0   \n",
       "707998                         0                           0   \n",
       "707999                         0                           0   \n",
       "708000                         0                           0   \n",
       "708003                         0                           0   \n",
       "708004                         0                           4   \n",
       "708005                         0                           0   \n",
       "708006                         0                           0   \n",
       "\n",
       "        NUMBER_OF_MOTORIST_KILLED  UNIQUE_KEY  \n",
       "0                               0     3343209  \n",
       "3                               0     3344840  \n",
       "5                               0     3343543  \n",
       "6                               0     3343488  \n",
       "7                               0     3343300  \n",
       "8                               0     3343640  \n",
       "9                               0     3343403  \n",
       "10                              0     3344267  \n",
       "13                              0     3343227  \n",
       "14                              0     3344002  \n",
       "17                              0     3344077  \n",
       "18                              0     3343968  \n",
       "20                              0     3343817  \n",
       "22                              0     3344061  \n",
       "23                              0     3343313  \n",
       "24                              0     3343226  \n",
       "25                              0     3344773  \n",
       "26                              0     3344057  \n",
       "27                              0     3344438  \n",
       "29                              0     3343660  \n",
       "30                              0     3343604  \n",
       "32                              0     3343893  \n",
       "33                              0     3343478  \n",
       "35                              0     3343684  \n",
       "36                              0     3343683  \n",
       "37                              0     3343287  \n",
       "38                              0     3343212  \n",
       "39                              0     3343714  \n",
       "42                              0     3343453  \n",
       "44                              0     3344180  \n",
       "...                           ...         ...  \n",
       "707966                          0      203694  \n",
       "707967                          0       16533  \n",
       "707968                          0        5297  \n",
       "707969                          0       44913  \n",
       "707971                          0       85166  \n",
       "707972                          0      259355  \n",
       "707974                          0       85164  \n",
       "707976                          0       52338  \n",
       "707978                          0       88542  \n",
       "707979                          0      163375  \n",
       "707980                          0      233143  \n",
       "707981                          0       55551  \n",
       "707982                          0       72590  \n",
       "707983                          0      135044  \n",
       "707985                          0      135042  \n",
       "707986                          0      293140  \n",
       "707987                          0      113534  \n",
       "707988                          0       44915  \n",
       "707989                          0      238645  \n",
       "707990                          0      279641  \n",
       "707992                          0        5299  \n",
       "707993                          0       37641  \n",
       "707994                          0      219399  \n",
       "707998                          0      245581  \n",
       "707999                          0      245564  \n",
       "708000                          0      284662  \n",
       "708003                          0      268106  \n",
       "708004                          0      272564  \n",
       "708005                          0      125667  \n",
       "708006                          0      293142  \n",
       "\n",
       "[538159 rows x 15 columns]"
      ]
     },
     "execution_count": 1,
     "metadata": {},
     "output_type": "execute_result"
    }
   ],
   "source": [
    "import pandas as pd\n",
    "\n",
    "data = pd.read_csv(\"NYPD_Motor_Vehicle_Collisions.csv\" ,parse_dates=[['DATE', 'TIME']]) \n",
    "#Drop unwanted columns\n",
    "data.drop([\"VEHICLE TYPE CODE 5\", \"VEHICLE TYPE CODE 4\", \"VEHICLE TYPE CODE 3\" ,\"CONTRIBUTING FACTOR VEHICLE 5\", \n",
    "           \"CONTRIBUTING FACTOR VEHICLE 4\",\"CONTRIBUTING FACTOR VEHICLE 3\", \"ON STREET NAME\",\"CROSS STREET NAME\",\n",
    "           \"OFF STREET NAME\", \"CONTRIBUTING FACTOR VEHICLE 1\", \"CONTRIBUTING FACTOR VEHICLE 2\", \"VEHICLE TYPE CODE 1\",\n",
    "           \"VEHICLE TYPE CODE 2\"], axis = 1, inplace = True)\n",
    "data= data.dropna()\n",
    "cols = data.columns\n",
    "cols = cols.map(lambda x: x.replace(' ', '_') if isinstance(x, (str, unicode)) else x)\n",
    "data.columns = cols\n",
    "data"
   ]
  },
  {
   "cell_type": "markdown",
   "metadata": {},
   "source": [
    "# Divide Data by the Year"
   ]
  },
  {
   "cell_type": "code",
   "execution_count": 3,
   "metadata": {
    "collapsed": false
   },
   "outputs": [],
   "source": [
    "data_2012 = data[data.DATE_TIME.dt.year==2012]\n",
    "\n",
    "data_2013 = data[data.DATE_TIME.dt.year==2013]\n",
    "\n",
    "data_2014 = data[data.DATE_TIME.dt.year==2014]\n",
    "\n",
    "data_2015 = data[data.DATE_TIME.dt.year==2015]\n"
   ]
  },
  {
   "cell_type": "markdown",
   "metadata": {},
   "source": [
    "# Analyse data by BOROUGH"
   ]
  },
  {
   "cell_type": "code",
   "execution_count": 8,
   "metadata": {
    "collapsed": false
   },
   "outputs": [
    {
     "name": "stderr",
     "output_type": "stream",
     "text": [
      "C:\\Users\\Kavya Rao\\Anaconda2\\lib\\site-packages\\ipykernel\\__main__.py:1: FutureWarning: sort(columns=....) is deprecated, use sort_values(by=.....)\n",
      "  if __name__ == '__main__':\n",
      "C:\\Users\\Kavya Rao\\Anaconda2\\lib\\site-packages\\ipykernel\\__main__.py:3: FutureWarning: sort(columns=....) is deprecated, use sort_values(by=.....)\n",
      "  app.launch_new_instance()\n",
      "C:\\Users\\Kavya Rao\\Anaconda2\\lib\\site-packages\\ipykernel\\__main__.py:5: FutureWarning: sort(columns=....) is deprecated, use sort_values(by=.....)\n",
      "C:\\Users\\Kavya Rao\\Anaconda2\\lib\\site-packages\\ipykernel\\__main__.py:7: FutureWarning: sort(columns=....) is deprecated, use sort_values(by=.....)\n"
     ]
    }
   ],
   "source": [
    "data_2012_borough = data_2012.groupby(data.BOROUGH).sum().sort(['NUMBER_OF_PERSONS_KILLED','NUMBER_OF_PEDESTRIANS_INJURED'])\n",
    "\n",
    "data_2013_borough = data_2013.groupby(data.BOROUGH).sum().sort(['NUMBER_OF_PERSONS_KILLED','NUMBER_OF_PEDESTRIANS_INJURED'])\n",
    "\n",
    "data_2014_borough = data_2014.groupby(data.BOROUGH).sum().sort(['NUMBER_OF_PERSONS_KILLED','NUMBER_OF_PEDESTRIANS_INJURED'])\n",
    "\n",
    "data_2015_borough = data_2015.groupby(data.BOROUGH).sum().sort(['NUMBER_OF_PERSONS_KILLED','NUMBER_OF_PEDESTRIANS_INJURED'])"
   ]
  },
  {
   "cell_type": "code",
   "execution_count": 9,
   "metadata": {
    "collapsed": false
   },
   "outputs": [
    {
     "data": {
      "text/html": [
       "<div>\n",
       "<table border=\"1\" class=\"dataframe\">\n",
       "  <thead>\n",
       "    <tr style=\"text-align: right;\">\n",
       "      <th></th>\n",
       "      <th>ZIP_CODE</th>\n",
       "      <th>LATITUDE</th>\n",
       "      <th>LONGITUDE</th>\n",
       "      <th>NUMBER_OF_PERSONS_INJURED</th>\n",
       "      <th>NUMBER_OF_PERSONS_KILLED</th>\n",
       "      <th>NUMBER_OF_PEDESTRIANS_INJURED</th>\n",
       "      <th>NUMBER_OF_PEDESTRIANS_KILLED</th>\n",
       "      <th>NUMBER_OF_CYCLIST_INJURED</th>\n",
       "      <th>NUMBER_OF_CYCLIST_KILLED</th>\n",
       "      <th>NUMBER_OF_MOTORIST_INJURED</th>\n",
       "      <th>NUMBER_OF_MOTORIST_KILLED</th>\n",
       "      <th>UNIQUE_KEY</th>\n",
       "    </tr>\n",
       "    <tr>\n",
       "      <th>BOROUGH</th>\n",
       "      <th></th>\n",
       "      <th></th>\n",
       "      <th></th>\n",
       "      <th></th>\n",
       "      <th></th>\n",
       "      <th></th>\n",
       "      <th></th>\n",
       "      <th></th>\n",
       "      <th></th>\n",
       "      <th></th>\n",
       "      <th></th>\n",
       "      <th></th>\n",
       "    </tr>\n",
       "  </thead>\n",
       "  <tbody>\n",
       "    <tr>\n",
       "      <th>STATEN ISLAND</th>\n",
       "      <td>58615046</td>\n",
       "      <td>230809.497599</td>\n",
       "      <td>-421558.138122</td>\n",
       "      <td>1412</td>\n",
       "      <td>11</td>\n",
       "      <td>209</td>\n",
       "      <td>4</td>\n",
       "      <td>29</td>\n",
       "      <td>1</td>\n",
       "      <td>1174</td>\n",
       "      <td>6</td>\n",
       "      <td>18445898431</td>\n",
       "    </tr>\n",
       "    <tr>\n",
       "      <th>MANHATTAN</th>\n",
       "      <td>387638357</td>\n",
       "      <td>1576351.058076</td>\n",
       "      <td>-2860539.275847</td>\n",
       "      <td>5895</td>\n",
       "      <td>20</td>\n",
       "      <td>2037</td>\n",
       "      <td>16</td>\n",
       "      <td>1090</td>\n",
       "      <td>1</td>\n",
       "      <td>2768</td>\n",
       "      <td>3</td>\n",
       "      <td>125540620914</td>\n",
       "    </tr>\n",
       "    <tr>\n",
       "      <th>BRONX</th>\n",
       "      <td>201480011</td>\n",
       "      <td>786688.286172</td>\n",
       "      <td>-1422826.756528</td>\n",
       "      <td>5099</td>\n",
       "      <td>25</td>\n",
       "      <td>1236</td>\n",
       "      <td>10</td>\n",
       "      <td>337</td>\n",
       "      <td>3</td>\n",
       "      <td>3526</td>\n",
       "      <td>12</td>\n",
       "      <td>62478869652</td>\n",
       "    </tr>\n",
       "    <tr>\n",
       "      <th>QUEENS</th>\n",
       "      <td>438513159</td>\n",
       "      <td>1571316.884946</td>\n",
       "      <td>-2849057.384436</td>\n",
       "      <td>9424</td>\n",
       "      <td>45</td>\n",
       "      <td>1742</td>\n",
       "      <td>21</td>\n",
       "      <td>718</td>\n",
       "      <td>6</td>\n",
       "      <td>6964</td>\n",
       "      <td>18</td>\n",
       "      <td>125218438201</td>\n",
       "    </tr>\n",
       "    <tr>\n",
       "      <th>BROOKLYN</th>\n",
       "      <td>518460182</td>\n",
       "      <td>1878887.958159</td>\n",
       "      <td>-3417547.823545</td>\n",
       "      <td>12408</td>\n",
       "      <td>56</td>\n",
       "      <td>2671</td>\n",
       "      <td>37</td>\n",
       "      <td>1408</td>\n",
       "      <td>4</td>\n",
       "      <td>8329</td>\n",
       "      <td>15</td>\n",
       "      <td>149965083577</td>\n",
       "    </tr>\n",
       "  </tbody>\n",
       "</table>\n",
       "</div>"
      ],
      "text/plain": [
       "                ZIP_CODE        LATITUDE       LONGITUDE  \\\n",
       "BOROUGH                                                    \n",
       "STATEN ISLAND   58615046   230809.497599  -421558.138122   \n",
       "MANHATTAN      387638357  1576351.058076 -2860539.275847   \n",
       "BRONX          201480011   786688.286172 -1422826.756528   \n",
       "QUEENS         438513159  1571316.884946 -2849057.384436   \n",
       "BROOKLYN       518460182  1878887.958159 -3417547.823545   \n",
       "\n",
       "               NUMBER_OF_PERSONS_INJURED  NUMBER_OF_PERSONS_KILLED  \\\n",
       "BOROUGH                                                              \n",
       "STATEN ISLAND                       1412                        11   \n",
       "MANHATTAN                           5895                        20   \n",
       "BRONX                               5099                        25   \n",
       "QUEENS                              9424                        45   \n",
       "BROOKLYN                           12408                        56   \n",
       "\n",
       "               NUMBER_OF_PEDESTRIANS_INJURED  NUMBER_OF_PEDESTRIANS_KILLED  \\\n",
       "BOROUGH                                                                      \n",
       "STATEN ISLAND                            209                             4   \n",
       "MANHATTAN                               2037                            16   \n",
       "BRONX                                   1236                            10   \n",
       "QUEENS                                  1742                            21   \n",
       "BROOKLYN                                2671                            37   \n",
       "\n",
       "               NUMBER_OF_CYCLIST_INJURED  NUMBER_OF_CYCLIST_KILLED  \\\n",
       "BOROUGH                                                              \n",
       "STATEN ISLAND                         29                         1   \n",
       "MANHATTAN                           1090                         1   \n",
       "BRONX                                337                         3   \n",
       "QUEENS                               718                         6   \n",
       "BROOKLYN                            1408                         4   \n",
       "\n",
       "               NUMBER_OF_MOTORIST_INJURED  NUMBER_OF_MOTORIST_KILLED  \\\n",
       "BOROUGH                                                                \n",
       "STATEN ISLAND                        1174                          6   \n",
       "MANHATTAN                            2768                          3   \n",
       "BRONX                                3526                         12   \n",
       "QUEENS                               6964                         18   \n",
       "BROOKLYN                             8329                         15   \n",
       "\n",
       "                 UNIQUE_KEY  \n",
       "BOROUGH                      \n",
       "STATEN ISLAND   18445898431  \n",
       "MANHATTAN      125540620914  \n",
       "BRONX           62478869652  \n",
       "QUEENS         125218438201  \n",
       "BROOKLYN       149965083577  "
      ]
     },
     "execution_count": 9,
     "metadata": {},
     "output_type": "execute_result"
    }
   ],
   "source": [
    "data_2015_borough"
   ]
  },
  {
   "cell_type": "markdown",
   "metadata": {},
   "source": [
    "'NUMBER_OF_PERSONS_INJURED' contains the sum value of 'Number_CYCLISTS_INJURED',  'NUMBER_OF_PEDESTRIANS_INJURED','NUMBER_OF_MOTORISTS_INJURED'. Hence from hereafter only 'NUMBER_OF_PERSONS_INJURED' will be considered for analysis."
   ]
  },
  {
   "cell_type": "markdown",
   "metadata": {},
   "source": [
    "# Analyse data by Month"
   ]
  },
  {
   "cell_type": "code",
   "execution_count": 10,
   "metadata": {
    "collapsed": true
   },
   "outputs": [],
   "source": [
    "data_2012_month = data_2012.groupby(data_2012.DATE_TIME.dt.month).sum()[['NUMBER_OF_PERSONS_INJURED','NUMBER_OF_PERSONS_KILLED']]\n",
    "\n",
    "data_2013_month = data_2013.groupby(data_2013.DATE_TIME.dt.month).sum()[['NUMBER_OF_PERSONS_INJURED','NUMBER_OF_PERSONS_KILLED']]\n",
    "\n",
    "data_2014_month = data_2014.groupby(data_2014.DATE_TIME.dt.month).sum()[['NUMBER_OF_PERSONS_INJURED','NUMBER_OF_PERSONS_KILLED']]\n",
    "\n",
    "data_2015_month = data_2015.groupby(data_2015.DATE_TIME.dt.month).sum()[['NUMBER_OF_PERSONS_INJURED','NUMBER_OF_PERSONS_KILLED']]\n"
   ]
  },
  {
   "cell_type": "code",
   "execution_count": 24,
   "metadata": {
    "collapsed": false
   },
   "outputs": [
    {
     "data": {
      "text/html": [
       "<div>\n",
       "<table border=\"1\" class=\"dataframe\">\n",
       "  <thead>\n",
       "    <tr style=\"text-align: right;\">\n",
       "      <th></th>\n",
       "      <th>NUMBER_OF_PERSONS_INJURED</th>\n",
       "      <th>NUMBER_OF_PERSONS_KILLED</th>\n",
       "    </tr>\n",
       "    <tr>\n",
       "      <th>DATE_TIME</th>\n",
       "      <th></th>\n",
       "      <th></th>\n",
       "    </tr>\n",
       "  </thead>\n",
       "  <tbody>\n",
       "    <tr>\n",
       "      <th>7</th>\n",
       "      <td>3684</td>\n",
       "      <td>21</td>\n",
       "    </tr>\n",
       "    <tr>\n",
       "      <th>8</th>\n",
       "      <td>3591</td>\n",
       "      <td>20</td>\n",
       "    </tr>\n",
       "    <tr>\n",
       "      <th>9</th>\n",
       "      <td>3547</td>\n",
       "      <td>19</td>\n",
       "    </tr>\n",
       "    <tr>\n",
       "      <th>10</th>\n",
       "      <td>3516</td>\n",
       "      <td>16</td>\n",
       "    </tr>\n",
       "    <tr>\n",
       "      <th>11</th>\n",
       "      <td>3123</td>\n",
       "      <td>12</td>\n",
       "    </tr>\n",
       "    <tr>\n",
       "      <th>12</th>\n",
       "      <td>3557</td>\n",
       "      <td>22</td>\n",
       "    </tr>\n",
       "  </tbody>\n",
       "</table>\n",
       "</div>"
      ],
      "text/plain": [
       "           NUMBER_OF_PERSONS_INJURED  NUMBER_OF_PERSONS_KILLED\n",
       "DATE_TIME                                                     \n",
       "7                               3684                        21\n",
       "8                               3591                        20\n",
       "9                               3547                        19\n",
       "10                              3516                        16\n",
       "11                              3123                        12\n",
       "12                              3557                        22"
      ]
     },
     "execution_count": 24,
     "metadata": {},
     "output_type": "execute_result"
    }
   ],
   "source": [
    "data_2012_month\n",
    "# We have only 6 months of data for 2012. Hence I will not be using this for analysis."
   ]
  },
  {
   "cell_type": "code",
   "execution_count": 28,
   "metadata": {
    "collapsed": false
   },
   "outputs": [
    {
     "data": {
      "text/html": [
       "<div>\n",
       "<table border=\"1\" class=\"dataframe\">\n",
       "  <thead>\n",
       "    <tr style=\"text-align: right;\">\n",
       "      <th></th>\n",
       "      <th>NUMBER_OF_PERSONS_INJURED</th>\n",
       "      <th>NUMBER_OF_PERSONS_KILLED</th>\n",
       "    </tr>\n",
       "    <tr>\n",
       "      <th>DATE_TIME</th>\n",
       "      <th></th>\n",
       "      <th></th>\n",
       "    </tr>\n",
       "  </thead>\n",
       "  <tbody>\n",
       "    <tr>\n",
       "      <th>1</th>\n",
       "      <td>2987</td>\n",
       "      <td>17</td>\n",
       "    </tr>\n",
       "    <tr>\n",
       "      <th>2</th>\n",
       "      <td>2325</td>\n",
       "      <td>8</td>\n",
       "    </tr>\n",
       "    <tr>\n",
       "      <th>3</th>\n",
       "      <td>2901</td>\n",
       "      <td>13</td>\n",
       "    </tr>\n",
       "    <tr>\n",
       "      <th>4</th>\n",
       "      <td>3068</td>\n",
       "      <td>18</td>\n",
       "    </tr>\n",
       "    <tr>\n",
       "      <th>5</th>\n",
       "      <td>3399</td>\n",
       "      <td>18</td>\n",
       "    </tr>\n",
       "    <tr>\n",
       "      <th>6</th>\n",
       "      <td>3769</td>\n",
       "      <td>16</td>\n",
       "    </tr>\n",
       "    <tr>\n",
       "      <th>7</th>\n",
       "      <td>3458</td>\n",
       "      <td>23</td>\n",
       "    </tr>\n",
       "    <tr>\n",
       "      <th>8</th>\n",
       "      <td>3353</td>\n",
       "      <td>12</td>\n",
       "    </tr>\n",
       "    <tr>\n",
       "      <th>9</th>\n",
       "      <td>3299</td>\n",
       "      <td>19</td>\n",
       "    </tr>\n",
       "    <tr>\n",
       "      <th>10</th>\n",
       "      <td>3652</td>\n",
       "      <td>12</td>\n",
       "    </tr>\n",
       "    <tr>\n",
       "      <th>11</th>\n",
       "      <td>3248</td>\n",
       "      <td>16</td>\n",
       "    </tr>\n",
       "    <tr>\n",
       "      <th>12</th>\n",
       "      <td>3170</td>\n",
       "      <td>11</td>\n",
       "    </tr>\n",
       "  </tbody>\n",
       "</table>\n",
       "</div>"
      ],
      "text/plain": [
       "           NUMBER_OF_PERSONS_INJURED  NUMBER_OF_PERSONS_KILLED\n",
       "DATE_TIME                                                     \n",
       "1                               2987                        17\n",
       "2                               2325                         8\n",
       "3                               2901                        13\n",
       "4                               3068                        18\n",
       "5                               3399                        18\n",
       "6                               3769                        16\n",
       "7                               3458                        23\n",
       "8                               3353                        12\n",
       "9                               3299                        19\n",
       "10                              3652                        12\n",
       "11                              3248                        16\n",
       "12                              3170                        11"
      ]
     },
     "execution_count": 28,
     "metadata": {},
     "output_type": "execute_result"
    }
   ],
   "source": [
    "data_2014_month"
   ]
  },
  {
   "cell_type": "code",
   "execution_count": 25,
   "metadata": {
    "collapsed": false
   },
   "outputs": [
    {
     "data": {
      "text/html": [
       "<div>\n",
       "<table border=\"1\" class=\"dataframe\">\n",
       "  <thead>\n",
       "    <tr style=\"text-align: right;\">\n",
       "      <th></th>\n",
       "      <th>NUMBER_OF_PERSONS_INJURED</th>\n",
       "      <th>NUMBER_OF_PERSONS_KILLED</th>\n",
       "    </tr>\n",
       "    <tr>\n",
       "      <th>DATE_TIME</th>\n",
       "      <th></th>\n",
       "      <th></th>\n",
       "    </tr>\n",
       "  </thead>\n",
       "  <tbody>\n",
       "    <tr>\n",
       "      <th>1</th>\n",
       "      <td>2589</td>\n",
       "      <td>13</td>\n",
       "    </tr>\n",
       "    <tr>\n",
       "      <th>2</th>\n",
       "      <td>2001</td>\n",
       "      <td>12</td>\n",
       "    </tr>\n",
       "    <tr>\n",
       "      <th>3</th>\n",
       "      <td>2759</td>\n",
       "      <td>8</td>\n",
       "    </tr>\n",
       "    <tr>\n",
       "      <th>4</th>\n",
       "      <td>2851</td>\n",
       "      <td>14</td>\n",
       "    </tr>\n",
       "    <tr>\n",
       "      <th>5</th>\n",
       "      <td>3573</td>\n",
       "      <td>24</td>\n",
       "    </tr>\n",
       "    <tr>\n",
       "      <th>6</th>\n",
       "      <td>3480</td>\n",
       "      <td>16</td>\n",
       "    </tr>\n",
       "    <tr>\n",
       "      <th>7</th>\n",
       "      <td>3480</td>\n",
       "      <td>12</td>\n",
       "    </tr>\n",
       "    <tr>\n",
       "      <th>8</th>\n",
       "      <td>3496</td>\n",
       "      <td>17</td>\n",
       "    </tr>\n",
       "    <tr>\n",
       "      <th>9</th>\n",
       "      <td>3359</td>\n",
       "      <td>9</td>\n",
       "    </tr>\n",
       "    <tr>\n",
       "      <th>10</th>\n",
       "      <td>3542</td>\n",
       "      <td>18</td>\n",
       "    </tr>\n",
       "    <tr>\n",
       "      <th>11</th>\n",
       "      <td>3108</td>\n",
       "      <td>14</td>\n",
       "    </tr>\n",
       "  </tbody>\n",
       "</table>\n",
       "</div>"
      ],
      "text/plain": [
       "           NUMBER_OF_PERSONS_INJURED  NUMBER_OF_PERSONS_KILLED\n",
       "DATE_TIME                                                     \n",
       "1                               2589                        13\n",
       "2                               2001                        12\n",
       "3                               2759                         8\n",
       "4                               2851                        14\n",
       "5                               3573                        24\n",
       "6                               3480                        16\n",
       "7                               3480                        12\n",
       "8                               3496                        17\n",
       "9                               3359                         9\n",
       "10                              3542                        18\n",
       "11                              3108                        14"
      ]
     },
     "execution_count": 25,
     "metadata": {},
     "output_type": "execute_result"
    }
   ],
   "source": [
    "data_2015_month"
   ]
  },
  {
   "cell_type": "markdown",
   "metadata": {},
   "source": [
    "# Analyse data by HOUR"
   ]
  },
  {
   "cell_type": "code",
   "execution_count": 11,
   "metadata": {
    "collapsed": true
   },
   "outputs": [],
   "source": [
    "data_2012_hour = data_2012.groupby(data_2012.DATE_TIME.dt.hour).sum()[['NUMBER_OF_PERSONS_INJURED','NUMBER_OF_PERSONS_KILLED']]\n",
    "\n",
    "data_2013_hour = data_2013.groupby(data_2013.DATE_TIME.dt.hour).sum()[['NUMBER_OF_PERSONS_INJURED','NUMBER_OF_PERSONS_KILLED']]\n",
    "\n",
    "data_2014_hour = data_2014.groupby(data_2014.DATE_TIME.dt.hour).sum()[['NUMBER_OF_PERSONS_INJURED','NUMBER_OF_PERSONS_KILLED']]\n",
    "\n",
    "data_2015_hour = data_2015.groupby(data_2015.DATE_TIME.dt.hour).sum()[['NUMBER_OF_PERSONS_INJURED','NUMBER_OF_PERSONS_KILLED']]"
   ]
  },
  {
   "cell_type": "code",
   "execution_count": 27,
   "metadata": {
    "collapsed": false
   },
   "outputs": [
    {
     "data": {
      "text/html": [
       "<div>\n",
       "<table border=\"1\" class=\"dataframe\">\n",
       "  <thead>\n",
       "    <tr style=\"text-align: right;\">\n",
       "      <th></th>\n",
       "      <th>NUMBER_OF_PERSONS_INJURED</th>\n",
       "      <th>NUMBER_OF_PERSONS_KILLED</th>\n",
       "    </tr>\n",
       "    <tr>\n",
       "      <th>DATE_TIME</th>\n",
       "      <th></th>\n",
       "      <th></th>\n",
       "    </tr>\n",
       "  </thead>\n",
       "  <tbody>\n",
       "    <tr>\n",
       "      <th>0</th>\n",
       "      <td>919</td>\n",
       "      <td>6</td>\n",
       "    </tr>\n",
       "    <tr>\n",
       "      <th>1</th>\n",
       "      <td>667</td>\n",
       "      <td>10</td>\n",
       "    </tr>\n",
       "    <tr>\n",
       "      <th>2</th>\n",
       "      <td>554</td>\n",
       "      <td>1</td>\n",
       "    </tr>\n",
       "    <tr>\n",
       "      <th>3</th>\n",
       "      <td>463</td>\n",
       "      <td>3</td>\n",
       "    </tr>\n",
       "    <tr>\n",
       "      <th>4</th>\n",
       "      <td>501</td>\n",
       "      <td>5</td>\n",
       "    </tr>\n",
       "    <tr>\n",
       "      <th>5</th>\n",
       "      <td>457</td>\n",
       "      <td>5</td>\n",
       "    </tr>\n",
       "    <tr>\n",
       "      <th>6</th>\n",
       "      <td>614</td>\n",
       "      <td>1</td>\n",
       "    </tr>\n",
       "    <tr>\n",
       "      <th>7</th>\n",
       "      <td>984</td>\n",
       "      <td>3</td>\n",
       "    </tr>\n",
       "    <tr>\n",
       "      <th>8</th>\n",
       "      <td>1848</td>\n",
       "      <td>4</td>\n",
       "    </tr>\n",
       "    <tr>\n",
       "      <th>9</th>\n",
       "      <td>1597</td>\n",
       "      <td>10</td>\n",
       "    </tr>\n",
       "    <tr>\n",
       "      <th>10</th>\n",
       "      <td>1341</td>\n",
       "      <td>4</td>\n",
       "    </tr>\n",
       "    <tr>\n",
       "      <th>11</th>\n",
       "      <td>1428</td>\n",
       "      <td>4</td>\n",
       "    </tr>\n",
       "    <tr>\n",
       "      <th>12</th>\n",
       "      <td>1622</td>\n",
       "      <td>5</td>\n",
       "    </tr>\n",
       "    <tr>\n",
       "      <th>13</th>\n",
       "      <td>1845</td>\n",
       "      <td>4</td>\n",
       "    </tr>\n",
       "    <tr>\n",
       "      <th>14</th>\n",
       "      <td>2126</td>\n",
       "      <td>5</td>\n",
       "    </tr>\n",
       "    <tr>\n",
       "      <th>15</th>\n",
       "      <td>2144</td>\n",
       "      <td>5</td>\n",
       "    </tr>\n",
       "    <tr>\n",
       "      <th>16</th>\n",
       "      <td>2502</td>\n",
       "      <td>7</td>\n",
       "    </tr>\n",
       "    <tr>\n",
       "      <th>17</th>\n",
       "      <td>2465</td>\n",
       "      <td>17</td>\n",
       "    </tr>\n",
       "    <tr>\n",
       "      <th>18</th>\n",
       "      <td>2410</td>\n",
       "      <td>11</td>\n",
       "    </tr>\n",
       "    <tr>\n",
       "      <th>19</th>\n",
       "      <td>1954</td>\n",
       "      <td>15</td>\n",
       "    </tr>\n",
       "    <tr>\n",
       "      <th>20</th>\n",
       "      <td>1788</td>\n",
       "      <td>6</td>\n",
       "    </tr>\n",
       "    <tr>\n",
       "      <th>21</th>\n",
       "      <td>1567</td>\n",
       "      <td>9</td>\n",
       "    </tr>\n",
       "    <tr>\n",
       "      <th>22</th>\n",
       "      <td>1383</td>\n",
       "      <td>8</td>\n",
       "    </tr>\n",
       "    <tr>\n",
       "      <th>23</th>\n",
       "      <td>1059</td>\n",
       "      <td>9</td>\n",
       "    </tr>\n",
       "  </tbody>\n",
       "</table>\n",
       "</div>"
      ],
      "text/plain": [
       "           NUMBER_OF_PERSONS_INJURED  NUMBER_OF_PERSONS_KILLED\n",
       "DATE_TIME                                                     \n",
       "0                                919                         6\n",
       "1                                667                        10\n",
       "2                                554                         1\n",
       "3                                463                         3\n",
       "4                                501                         5\n",
       "5                                457                         5\n",
       "6                                614                         1\n",
       "7                                984                         3\n",
       "8                               1848                         4\n",
       "9                               1597                        10\n",
       "10                              1341                         4\n",
       "11                              1428                         4\n",
       "12                              1622                         5\n",
       "13                              1845                         4\n",
       "14                              2126                         5\n",
       "15                              2144                         5\n",
       "16                              2502                         7\n",
       "17                              2465                        17\n",
       "18                              2410                        11\n",
       "19                              1954                        15\n",
       "20                              1788                         6\n",
       "21                              1567                         9\n",
       "22                              1383                         8\n",
       "23                              1059                         9"
      ]
     },
     "execution_count": 27,
     "metadata": {},
     "output_type": "execute_result"
    }
   ],
   "source": [
    "data_2015_hour"
   ]
  },
  {
   "cell_type": "markdown",
   "metadata": {},
   "source": [
    "# Graphical representation"
   ]
  },
  {
   "cell_type": "markdown",
   "metadata": {},
   "source": [
    "In the section below, I have attempted to represent the 'NUMBER_OF_PERSONS_INJURED', 'NUMBER_OF_CYCLISTS_INJURED', 'NUMNER_OF_MOTORISTS_INJURED' in a graphical format. Visalising tabluar data is helpful in analysing the results,"
   ]
  },
  {
   "cell_type": "code",
   "execution_count": 12,
   "metadata": {
    "collapsed": false
   },
   "outputs": [
    {
     "data": {
      "image/png": "[encoded data removed]",
      "text/plain": [
       "<matplotlib.figure.Figure at 0x109f0828>"
      ]
     },
     "metadata": {},
     "output_type": "display_data"
    },
    {
     "data": {
      "image/png": "[encoded data removed]",
      "text/plain": [
       "<matplotlib.figure.Figure at 0x1054ce80>"
      ]
     },
     "metadata": {},
     "output_type": "display_data"
    },
    {
     "data": {
      "image/png": "[encoded data removed]",
      "text/plain": [
       "<matplotlib.figure.Figure at 0x1685eeb8>"
      ]
     },
     "metadata": {},
     "output_type": "display_data"
    },
    {
     "data": {
      "image/png": "[encoded data removed]",
      "text/plain": [
       "<matplotlib.figure.Figure at 0xfeaecc0>"
      ]
     },
     "metadata": {},
     "output_type": "display_data"
    }
   ],
   "source": [
    "% matplotlib inline\n",
    "import matplotlib.pyplot as plt\n",
    "\n",
    "data_2012_hour.plot(kind='bar', title='2012')\n",
    "plt.grid(True)\n",
    "data_2013_hour.plot(kind='bar', title='2013')\n",
    "plt.grid(True)\n",
    "data_2014_hour.plot(kind='bar', title='2014')\n",
    "plt.grid(True)\n",
    "data_2015_hour.plot(kind='bar', title='2015')\n",
    "plt.grid(True)"
   ]
  },
  {
   "cell_type": "code",
   "execution_count": 13,
   "metadata": {
    "collapsed": false
   },
   "outputs": [
    {
     "data": {
      "image/png": "[encoded data removed]",
      "text/plain": [
       "<matplotlib.figure.Figure at 0x191bb278>"
      ]
     },
     "metadata": {},
     "output_type": "display_data"
    },
    {
     "data": {
      "image/png": "[encoded data removed]",
      "text/plain": [
       "<matplotlib.figure.Figure at 0x14553588>"
      ]
     },
     "metadata": {},
     "output_type": "display_data"
    },
    {
     "data": {
      "image/png": "[encoded data removed]",
      "text/plain": [
       "<matplotlib.figure.Figure at 0x1920b208>"
      ]
     },
     "metadata": {},
     "output_type": "display_data"
    },
    {
     "data": {
      "image/png": "[encoded data removed]",
      "text/plain": [
       "<matplotlib.figure.Figure at 0x147d6e48>"
      ]
     },
     "metadata": {},
     "output_type": "display_data"
    }
   ],
   "source": [
    "data_2012_hour.plot(title='2012')\n",
    "plt.grid(True)\n",
    "data_2013_hour.plot(title='2013')\n",
    "plt.grid(True)\n",
    "data_2014_hour.plot(title='2014')\n",
    "plt.grid(True)\n",
    "data_2015_hour.plot(title='2015')\n",
    "plt.grid(True)"
   ]
  },
  {
   "cell_type": "code",
   "execution_count": 16,
   "metadata": {
    "collapsed": true
   },
   "outputs": [],
   "source": [
    "data_2015_cycle = data_2015.groupby(data_2015.DATE_TIME.dt.hour).sum()[['NUMBER_OF_CYCLIST_INJURED']]\n",
    "\n",
    "data_2014_cycle = data_2014.groupby(data_2014.DATE_TIME.dt.hour).sum()[['NUMBER_OF_CYCLIST_INJURED']]\n",
    "\n",
    "data_2013_cycle = data_2013.groupby(data_2013.DATE_TIME.dt.hour).sum()[['NUMBER_OF_CYCLIST_INJURED']]\n",
    "\n",
    "data_2012_cycle = data_2012.groupby(data_2013.DATE_TIME.dt.hour).sum()[['NUMBER_OF_CYCLIST_INJURED']]"
   ]
  },
  {
   "cell_type": "code",
   "execution_count": 17,
   "metadata": {
    "collapsed": false
   },
   "outputs": [
    {
     "data": {
      "text/plain": [
       "<matplotlib.axes._subplots.AxesSubplot at 0xf555630>"
      ]
     },
     "execution_count": 17,
     "metadata": {},
     "output_type": "execute_result"
    },
    {
     "data": {
      "image/png": "[encoded data removed]",
      "text/plain": [
       "<matplotlib.figure.Figure at 0xeb722e8>"
      ]
     },
     "metadata": {},
     "output_type": "display_data"
    },
    {
     "data": {
      "image/png": "[encoded data removed]",
      "text/plain": [
       "<matplotlib.figure.Figure at 0x1680dac8>"
      ]
     },
     "metadata": {},
     "output_type": "display_data"
    },
    {
     "data": {
      "image/png": "[encoded data removed]",
      "text/plain": [
       "<matplotlib.figure.Figure at 0x134f70f0>"
      ]
     },
     "metadata": {},
     "output_type": "display_data"
    }
   ],
   "source": [
    "data_2015_cycle.plot(kind = 'bar', color = 'g', grid = True, title = \"2015\")\n",
    "data_2014_cycle.plot(kind = 'bar', color = 'g', grid = True, title = \"2014\")\n",
    "data_2013_cycle.plot(kind = 'bar', color = 'g', grid = True, title = \"2013\")\n"
   ]
  },
  {
   "cell_type": "code",
   "execution_count": 18,
   "metadata": {
    "collapsed": true
   },
   "outputs": [],
   "source": [
    "data_2015_motor = data_2015.groupby(data_2015.DATE_TIME.dt.hour).sum()[['NUMBER_OF_MOTORIST_INJURED']]\n",
    "\n",
    "data_2014_motor = data_2014.groupby(data_2014.DATE_TIME.dt.hour).sum()[['NUMBER_OF_MOTORIST_INJURED']]\n",
    "\n",
    "data_2013_motor = data_2013.groupby(data_2013.DATE_TIME.dt.hour).sum()[['NUMBER_OF_MOTORIST_INJURED']]\n",
    "\n",
    "data_2012_motor = data_2012.groupby(data_2013.DATE_TIME.dt.hour).sum()[['NUMBER_OF_MOTORIST_INJURED']]"
   ]
  },
  {
   "cell_type": "code",
   "execution_count": 19,
   "metadata": {
    "collapsed": false
   },
   "outputs": [
    {
     "data": {
      "text/plain": [
       "<matplotlib.axes._subplots.AxesSubplot at 0xed4b160>"
      ]
     },
     "execution_count": 19,
     "metadata": {},
     "output_type": "execute_result"
    },
    {
     "data": {
      "image/png": "[encoded data removed]",
      "text/plain": [
       "<matplotlib.figure.Figure at 0x18d09d68>"
      ]
     },
     "metadata": {},
     "output_type": "display_data"
    },
    {
     "data": {
      "image/png": "[encoded data removed]",
      "text/plain": [
       "<matplotlib.figure.Figure at 0x11806e80>"
      ]
     },
     "metadata": {},
     "output_type": "display_data"
    },
    {
     "data": {
      "image/png": "[encoded data removed]",
      "text/plain": [
       "<matplotlib.figure.Figure at 0xee74780>"
      ]
     },
     "metadata": {},
     "output_type": "display_data"
    }
   ],
   "source": [
    "data_2015_motor.plot(kind = 'bar', color = 'm', grid = True, title = \"2015\")\n",
    "data_2014_motor.plot(kind = 'bar', color = 'm', grid = True, title = \"2014\")\n",
    "data_2013_motor.plot(kind = 'bar', color = 'm', grid = True, title = \"2013\")"
   ]
  },
  {
   "cell_type": "markdown",
   "metadata": {},
   "source": [
    "Result: By observing the graphs given above, we can draw a assumption that More injuries occure between 4PM to 8PM.\n",
    "Cyclists or Motirists can be warned that probability of a mishap is higher during the evening hours. \n",
    "We can also prove that rush hour or peak hour traffic is probably between 4PM to 8PM."
   ]
  },
  {
   "cell_type": "markdown",
   "metadata": {},
   "source": [
    "# Regression Analysis"
   ]
  },
  {
   "cell_type": "markdown",
   "metadata": {
    "collapsed": true
   },
   "source": [
    "In this section I have plotted a scatter plot and also plotted the curve of best fit on the same. More about this wil be dealt in the next section."
   ]
  },
  {
   "cell_type": "code",
   "execution_count": 145,
   "metadata": {
    "collapsed": false
   },
   "outputs": [
    {
     "data": {
      "text/plain": [
       "array([ 919,  667,  554,  463,  501,  457,  614,  984, 1848, 1597, 1341,\n",
       "       1428, 1622, 1845, 2126, 2144, 2502, 2465, 2410, 1954, 1788, 1567,\n",
       "       1383, 1059], dtype=int64)"
      ]
     },
     "execution_count": 145,
     "metadata": {},
     "output_type": "execute_result"
    }
   ],
   "source": [
    "Y = data_2015_hour['NUMBER_OF_PERSONS_INJURED'].values\n",
    "Y"
   ]
  },
  {
   "cell_type": "code",
   "execution_count": 146,
   "metadata": {
    "collapsed": false
   },
   "outputs": [
    {
     "data": {
      "image/png": "[encoded data removed]",
      "text/plain": [
       "<matplotlib.figure.Figure at 0x15b76c50>"
      ]
     },
     "metadata": {},
     "output_type": "display_data"
    }
   ],
   "source": [
    "import numpy as np\n",
    "fig = plt.figure()\n",
    "\n",
    "Y = np.array([ 919,  667,  554,  463,  501,  457,  614,  984, 1848, 1597, 1341,\n",
    "       1428, 1622, 1845, 2126, 2144, 2502, 2465, 2410, 1954,])\n",
    "X = range(len(Y))\n",
    "plt.grid(True)\n",
    "plt.title('2015')\n",
    "plt.xlabel(\"Hours\")\n",
    "plt.scatter(X,Y)\n",
    "plt.title('2015')\n",
    "plt.show()"
   ]
  },
  {
   "cell_type": "code",
   "execution_count": 105,
   "metadata": {
    "collapsed": false
   },
   "outputs": [
    {
     "data": {
      "image/png": "[encoded data removed]",
      "text/plain": [
       "<matplotlib.figure.Figure at 0x19061080>"
      ]
     },
     "metadata": {},
     "output_type": "display_data"
    }
   ],
   "source": [
    "from scipy.interpolate import*\n",
    "\n",
    "p1= np.polyfit(X,Y,1)\n",
    "\n",
    "plt.grid(True)\n",
    "plt.scatter(X,Y)\n",
    "plt.title('2015')\n",
    "plt.xlabel(\"Hours\")\n",
    "plt.ylabel(\"NUMBER_OF_PEOPLE_INJURED\")\n",
    "plt.plot(X,np.polyval(p1,X), 'r--')\n",
    "plt.show()"
   ]
  },
  {
   "cell_type": "code",
   "execution_count": 106,
   "metadata": {
    "collapsed": false
   },
   "outputs": [
    {
     "data": {
      "image/png": "[encoded data removed]",
      "text/plain": [
       "<matplotlib.figure.Figure at 0x15be44a8>"
      ]
     },
     "metadata": {},
     "output_type": "display_data"
    }
   ],
   "source": [
    "p1= np.polyfit(X,Y,1)\n",
    "\n",
    "p2= np.polyfit(X,Y,2)\n",
    "\n",
    "plt.grid(True)\n",
    "plt.scatter(X,Y)\n",
    "plt.title('2015')\n",
    "plt.xlabel(\"Hours\")\n",
    "plt.ylabel(\"NUMBER_OF_PEOPLE_INJURED\")\n",
    "plt.plot(X,np.polyval(p1,X), 'r--')\n",
    "\n",
    "plt.plot(X,np.polyval(p2,X), 'm:')\n",
    "plt.show()"
   ]
  },
  {
   "cell_type": "code",
   "execution_count": 107,
   "metadata": {
    "collapsed": false
   },
   "outputs": [
    {
     "data": {
      "image/png": "[encoded data removed]",
      "text/plain": [
       "<matplotlib.figure.Figure at 0x12b2c358>"
      ]
     },
     "metadata": {},
     "output_type": "display_data"
    }
   ],
   "source": [
    "from scipy.interpolate import*\n",
    "\n",
    "\n",
    "\n",
    "p3= np.polyfit(X,Y,3)\n",
    "\n",
    "plt.grid(True)\n",
    "plt.scatter(X,Y)\n",
    "plt.title('2015')\n",
    "plt.xlabel(\"Hours\")\n",
    "plt.ylabel(\"NUMBER_OF_PEOPLE_INJURED\")\n",
    "\n",
    "plt.plot(X,np.polyval(p3,X), 'g--')\n",
    "plt.show()"
   ]
  },
  {
   "cell_type": "code",
   "execution_count": 108,
   "metadata": {
    "collapsed": false
   },
   "outputs": [
    {
     "data": {
      "image/png": "[encoded data removed]",
      "text/plain": [
       "<matplotlib.figure.Figure at 0x15c03400>"
      ]
     },
     "metadata": {},
     "output_type": "display_data"
    }
   ],
   "source": [
    "p3= np.polyfit(X,Y,3)\n",
    "p1= np.polyfit(X,Y,1)\n",
    "\n",
    "p2= np.polyfit(X,Y,2)\n",
    "\n",
    "plt.grid(True)\n",
    "plt.scatter(X,Y)\n",
    "plt.title('2015')\n",
    "plt.xlabel(\"Hours\")\n",
    "plt.ylabel(\"NUMBER_OF_PEOPLE_INJURED\")\n",
    "plt.plot(X,np.polyval(p1,X), 'r--')\n",
    "plt.plot(X,np.polyval(p2,X), 'm:')\n",
    "\n",
    "plt.plot(X,np.polyval(p3,X), 'g--')\n",
    "plt.show()"
   ]
  },
  {
   "cell_type": "code",
   "execution_count": 109,
   "metadata": {
    "collapsed": false
   },
   "outputs": [
    {
     "data": {
      "text/plain": [
       "array([  -1.35742742,   39.70405437, -194.71534519,  818.5515528 ])"
      ]
     },
     "execution_count": 109,
     "metadata": {},
     "output_type": "execute_result"
    }
   ],
   "source": [
    "p3 = np.polyfit(X,Y,3)\n",
    "p3"
   ]
  },
  {
   "cell_type": "code",
   "execution_count": 110,
   "metadata": {
    "collapsed": false
   },
   "outputs": [
    {
     "data": {
      "text/plain": [
       "1667.8819696299549"
      ]
     },
     "execution_count": 110,
     "metadata": {},
     "output_type": "execute_result"
    }
   ],
   "source": [
    "np.polyval(p3, 21)"
   ]
  },
  {
   "cell_type": "code",
   "execution_count": 62,
   "metadata": {
    "collapsed": false
   },
   "outputs": [
    {
     "name": "stdout",
     "output_type": "stream",
     "text": [
      "0.814633958656\n"
     ]
    }
   ],
   "source": [
    "from scipy.stats import*\n",
    "\n",
    "slope,intercept,r_value,p_value,std_err=linregress(X,Y)\n",
    "print(pow(r_value,2))"
   ]
  },
  {
   "cell_type": "code",
   "execution_count": 63,
   "metadata": {
    "collapsed": false
   },
   "outputs": [
    {
     "name": "stdout",
     "output_type": "stream",
     "text": [
      "12.49902337\n"
     ]
    }
   ],
   "source": [
    "slope,intercept,r_value,p_value,std_err=linregress(X,Y)\n",
    "print(std_err)"
   ]
  },
  {
   "cell_type": "code",
   "execution_count": null,
   "metadata": {
    "collapsed": true
   },
   "outputs": [],
   "source": []
  },
  {
   "cell_type": "markdown",
   "metadata": {},
   "source": [
    "# Regression Analysis on Sampled Data"
   ]
  },
  {
   "cell_type": "code",
   "execution_count": 149,
   "metadata": {
    "collapsed": false
   },
   "outputs": [],
   "source": [
    "Y = data_2015_hour['NUMBER_OF_PERSONS_INJURED'].values\n",
    "X = range(len(Y))"
   ]
  },
  {
   "cell_type": "markdown",
   "metadata": {},
   "source": [
    "Divide data set into Training & Test data set.\n",
    "I have attempted to divide the data by taking around 13 values and then I will apply regression Analysis to predict the other unkown 11 values.\n",
    "\n",
    "Training : [[0,2,4,5,7,10,11,13,15,19,20,21,23]   - 60%\n",
    "Test :  [1,3,6,8,9,12,14,16,17,18,22]  - 40%"
   ]
  },
  {
   "cell_type": "code",
   "execution_count": 150,
   "metadata": {
    "collapsed": false
   },
   "outputs": [
    {
     "name": "stdout",
     "output_type": "stream",
     "text": [
      "[ 919  667  554  463  501  457  614  984 1848 1597 1341 1428 1622 1845 2126\n",
      " 2144 2502 2465 2410 1954 1788 1567 1383 1059]\n",
      "[0, 1, 2, 3, 4, 5, 6, 7, 8, 9, 10, 11, 12, 13, 14, 15, 16, 17, 18, 19, 20, 21, 22, 23]\n"
     ]
    }
   ],
   "source": [
    "print(Y)\n",
    "print(X)"
   ]
  },
  {
   "cell_type": "code",
   "execution_count": 151,
   "metadata": {
    "collapsed": true
   },
   "outputs": [],
   "source": [
    "Y = np.array([ 919,    554 ,   501,  457,    984, 1341 ,1428 , 1845 ,2144 , 1954 ,1788 ,1567,  1059])\n",
    "X = np.array([0,2,4,5,7,10,11,13,15,19,20,21,23])"
   ]
  },
  {
   "cell_type": "code",
   "execution_count": 152,
   "metadata": {
    "collapsed": false
   },
   "outputs": [
    {
     "data": {
      "image/png": "[encoded data removed]",
      "text/plain": [
       "<matplotlib.figure.Figure at 0x1167bbe0>"
      ]
     },
     "metadata": {},
     "output_type": "display_data"
    }
   ],
   "source": [
    "\n",
    "\n",
    "# Plot a scatter plot using the 2015_sample\n",
    "\n",
    "plt.grid(True)\n",
    "plt.scatter(X,Y)\n",
    "plt.title('2015_ sample')\n",
    "plt.xlabel(\"Hours\")\n",
    "plt.ylabel(\"NUMBER_OF_PEOPLE_INJURED\")\n",
    "\n",
    "\n",
    "plt.show()"
   ]
  },
  {
   "cell_type": "markdown",
   "metadata": {},
   "source": [
    "The line of best fit is constructed using the algorthm 'Least Sqared Methods'. This alogrith has been explained in the section 'Algorithm' "
   ]
  },
  {
   "cell_type": "code",
   "execution_count": 153,
   "metadata": {
    "collapsed": false
   },
   "outputs": [
    {
     "data": {
      "image/png": "[encoded data removed]",
      "text/plain": [
       "<matplotlib.figure.Figure at 0x1145fa90>"
      ]
     },
     "metadata": {},
     "output_type": "display_data"
    }
   ],
   "source": [
    "\n",
    "plt.grid(True)\n",
    "plt.scatter(X,Y)\n",
    "plt.title('2015_ sample')\n",
    "plt.xlabel(\"Hours\")\n",
    "plt.ylabel(\"NUMBER_OF_PEOPLE_INJURED\")\n",
    "plt.plot(X,np.polyval(p1,X), 'r--')\n",
    "\n",
    "plt.show()"
   ]
  },
  {
   "cell_type": "code",
   "execution_count": 154,
   "metadata": {
    "collapsed": false
   },
   "outputs": [
    {
     "data": {
      "image/png": "[encoded data removed]",
      "text/plain": [
       "<matplotlib.figure.Figure at 0x114affd0>"
      ]
     },
     "metadata": {},
     "output_type": "display_data"
    }
   ],
   "source": [
    "# change to degree 2 polynomial. I have nor a parabolic curve, which does not fit my plotted points.\n",
    "\n",
    "p2= np.polyfit(X,Y,2)  \n",
    "\n",
    "plt.grid(True)\n",
    "plt.scatter(X,Y)\n",
    "plt.title('2015_ sample')\n",
    "plt.xlabel(\"Hours\")\n",
    "plt.ylabel(\"NUMBER_OF_PEOPLE_INJURED\")\n",
    "plt.plot(X,np.polyval(p1,X), 'r--')\n",
    "plt.plot(X,np.polyval(p2,X), 'm:')\n",
    "\n",
    "\n",
    "plt.show()"
   ]
  },
  {
   "cell_type": "code",
   "execution_count": 164,
   "metadata": {
    "collapsed": false
   },
   "outputs": [
    {
     "data": {
      "image/png": "[encoded data removed]",
      "text/plain": [
       "<matplotlib.figure.Figure at 0x1145fa58>"
      ]
     },
     "metadata": {},
     "output_type": "display_data"
    }
   ],
   "source": [
    "#with a polynomial of degree 3 , I now have a curve of best fit.\n",
    "p3= np.polyfit(X,Y,3)\n",
    "p1= np.polyfit(X,Y,1)\n",
    "p2= np.polyfit(X,Y,2)\n",
    "\n",
    "plt.grid(True)\n",
    "plt.scatter(X,Y)\n",
    "plt.title('2015_ sample')\n",
    "plt.xlabel(\"Hours\")\n",
    "plt.ylabel(\"NUMBER_OF_PEOPLE_INJURED\")\n",
    "plt.plot(X,np.polyval(p1,X), 'r--', label ='p1')\n",
    "plt.plot(X,np.polyval(p2,X), 'm:', label='p2')\n",
    "\n",
    "plt.plot(X,np.polyval(p3,X), 'g--', label = 'p3')\n",
    "plt.legend(loc=\"lower right\")\n",
    "plt.show()"
   ]
  },
  {
   "cell_type": "markdown",
   "metadata": {},
   "source": [
    "Using the curve of best fit (green dotted line), I can now predict an unkown 'Y' for a given 'X'\n",
    "The equation for the curve is now:\n",
    "Yfit=ax^{3}+bx^{2}+cx+d\n",
    "To solve for Yfit, for a given X, we will need the coefficients, a,b,c,d. \n",
    "The coefficients can be found using the polyfit method."
   ]
  },
  {
   "cell_type": "code",
   "execution_count": 138,
   "metadata": {
    "collapsed": false
   },
   "outputs": [
    {
     "data": {
      "text/plain": [
       "array([  -1.2245285 ,   37.18728163, -203.14266583,  849.89174001])"
      ]
     },
     "execution_count": 138,
     "metadata": {},
     "output_type": "execute_result"
    }
   ],
   "source": [
    "#find values for the co-effecients.\n",
    "np.polyfit(X,Y,3)"
   ]
  },
  {
   "cell_type": "markdown",
   "metadata": {},
   "source": [
    "After obtating the co-effs, we will have to substitue the values in the equation and solve for value of Yfit. This can be done using the polyval method, which takes in 2 parameters, the co-effs and the X value."
   ]
  },
  {
   "cell_type": "code",
   "execution_count": 162,
   "metadata": {
    "collapsed": false
   },
   "outputs": [
    {
     "name": "stdout",
     "output_type": "stream",
     "text": [
      "Y_fit Value at 12 Noon : 1651.16305226\n"
     ]
    }
   ],
   "source": [
    "#Predict value at X = 12 (12 in the noon).\n",
    "\n",
    "y_fit_12 = np.polyval(p3, 12)\n",
    "print \"Y_fit Value at 12 Noon :\", y_fit_12"
   ]
  },
  {
   "cell_type": "markdown",
   "metadata": {},
   "source": [
    "When the predicted value is compared with the actual value, the you can see that the values are pretty close and the prediction is working just fine."
   ]
  },
  {
   "cell_type": "code",
   "execution_count": 166,
   "metadata": {
    "collapsed": false
   },
   "outputs": [
    {
     "name": "stdout",
     "output_type": "stream",
     "text": [
      "Y_fit Value at 5 PM : 2015.7487581\n"
     ]
    }
   ],
   "source": [
    "#Predict value at X = 19 (7 PM)\n",
    "y_fit_19 = np.polyval(p3, 19)\n",
    "print \"Y_fit Value at 7 PM :\", y_fit_19"
   ]
  },
  {
   "cell_type": "code",
   "execution_count": 165,
   "metadata": {
    "collapsed": false
   },
   "outputs": [
    {
     "name": "stdout",
     "output_type": "stream",
     "text": [
      "Y_fit Value at 5 PM : 2127.48227855\n"
     ]
    }
   ],
   "source": [
    "#Predict value at X = 17 (5 PM)\n",
    "y_fit_17 = np.polyval(p3, 17)\n",
    "print \"Y_fit Value at 5 PM :\", y_fit_17"
   ]
  },
  {
   "cell_type": "code",
   "execution_count": 139,
   "metadata": {
    "collapsed": false
   },
   "outputs": [
    {
     "data": {
      "text/plain": [
       "542.08700761790408"
      ]
     },
     "execution_count": 139,
     "metadata": {},
     "output_type": "execute_result"
    }
   ],
   "source": [
    "np.polyval(p3, 3)"
   ]
  },
  {
   "cell_type": "code",
   "execution_count": 140,
   "metadata": {
    "collapsed": false
   },
   "outputs": [
    {
     "data": {
      "text/plain": [
       "705.27972715267515"
      ]
     },
     "execution_count": 140,
     "metadata": {},
     "output_type": "execute_result"
    }
   ],
   "source": [
    "np.polyval(p3, 6)"
   ]
  },
  {
   "cell_type": "markdown",
   "metadata": {},
   "source": [
    "We can also calculate the std error and R squared value for the analysis using the built in methods as shown below."
   ]
  },
  {
   "cell_type": "code",
   "execution_count": 141,
   "metadata": {
    "collapsed": false
   },
   "outputs": [
    {
     "name": "stdout",
     "output_type": "stream",
     "text": [
      "0.482835544461\n"
     ]
    }
   ],
   "source": [
    "from scipy.stats import*\n",
    "\n",
    "slope,intercept,r_value,p_value,std_err=linregress(X,Y)\n",
    "print(pow(r_value,2))"
   ]
  },
  {
   "cell_type": "code",
   "execution_count": 142,
   "metadata": {
    "collapsed": false
   },
   "outputs": [
    {
     "name": "stdout",
     "output_type": "stream",
     "text": [
      "16.2089191061\n"
     ]
    }
   ],
   "source": [
    "slope,intercept,r_value,p_value,std_err=linregress(X,Y)\n",
    "print(std_err)"
   ]
  },
  {
   "cell_type": "markdown",
   "metadata": {},
   "source": [
    "I have now attempted to plot the actual vs the fitted values. \n",
    "Using regression analysis method, predictions can be done with a veyr low error rate and you may not be able to get the prefect predicted value, but the predictions are very close."
   ]
  },
  {
   "cell_type": "code",
   "execution_count": 143,
   "metadata": {
    "collapsed": false
   },
   "outputs": [
    {
     "data": {
      "image/png": "[encoded data removed]",
      "text/plain": [
       "<matplotlib.figure.Figure at 0x113b1d68>"
      ]
     },
     "metadata": {},
     "output_type": "display_data"
    }
   ],
   "source": [
    "\n",
    "x_fit = np.arange(24)\n",
    "p3 = np.polyfit(X,Y,3)\n",
    "y_fit = []\n",
    "for i in range(len(x_fit)):\n",
    "    y_fit.append(np.polyval(p3, i))\n",
    "\n",
    "\n",
    "plt.grid(True)\n",
    "plt.plot(X, Y, label = \"Original\")\n",
    "plt.plot(x_fit, y_fit, label = \"Fitted\")\n",
    "plt.title('2015_ sample_Prediction')\n",
    "plt.xlabel(\"Hours\")\n",
    "plt.ylabel(\"NUMBER_OF_PEOPLE_INJURED\")\n",
    "\n",
    "plt.legend(loc=\"lower right\")\n",
    "plt.show()"
   ]
  },
  {
   "cell_type": "code",
   "execution_count": 71,
   "metadata": {
    "collapsed": false
   },
   "outputs": [
    {
     "data": {
      "image/png": "[encoded data removed]",
      "text/plain": [
       "<matplotlib.figure.Figure at 0x18a54208>"
      ]
     },
     "metadata": {},
     "output_type": "display_data"
    }
   ],
   "source": [
    "# 2012 data\n",
    "\n",
    "from scipy.interpolate import*\n",
    "Y = data_2012_hour['NUMBER_OF_PERSONS_INJURED'].values\n",
    "X = range(len(Y))\n",
    "p3= np.polyfit(X,Y,3)\n",
    "\n",
    "plt.grid(True)\n",
    "plt.scatter(X,Y)\n",
    "plt.title('2012')\n",
    "plt.xlabel(\"Hours\")\n",
    "plt.ylabel(\"NUMBER_OF_PEOPLE_INJURED\")\n",
    "plt.plot(X,np.polyval(p3,X), 'r--')\n",
    "plt.show()"
   ]
  },
  {
   "cell_type": "code",
   "execution_count": null,
   "metadata": {
    "collapsed": false
   },
   "outputs": [],
   "source": []
  },
  {
   "cell_type": "code",
   "execution_count": null,
   "metadata": {
    "collapsed": true
   },
   "outputs": [],
   "source": []
  },
  {
   "cell_type": "code",
   "execution_count": 70,
   "metadata": {
    "collapsed": false
   },
   "outputs": [
    {
     "data": {
      "image/png": "[encoded data removed]",
      "text/plain": [
       "<matplotlib.figure.Figure at 0x17863a90>"
      ]
     },
     "metadata": {},
     "output_type": "display_data"
    }
   ],
   "source": [
    "# 2013 data\n",
    "\n",
    "from scipy.interpolate import*\n",
    "Y = data_2013_hour['NUMBER_OF_PERSONS_INJURED'].values\n",
    "X = range(len(Y))\n",
    "p1 = np.polyfit(X,Y,1)\n",
    "p2= np.polyfit(X,Y,2)\n",
    "p3= np.polyfit(X,Y,3)\n",
    "\n",
    "plt.grid(True)\n",
    "plt.scatter(X,Y)\n",
    "plt.title('2013')\n",
    "plt.xlabel(\"Hours\")\n",
    "plt.ylabel(\"NUMBER_OF_PEOPLE_INJURED\")\n",
    "plt.plot(X,np.polyval(p1,X), 'r:')\n",
    "plt.plot(X,np.polyval(p2,X), 'g:')\n",
    "plt.plot(X,np.polyval(p3,X), 'b--')\n",
    "plt.show()"
   ]
  },
  {
   "cell_type": "code",
   "execution_count": null,
   "metadata": {
    "collapsed": false
   },
   "outputs": [],
   "source": []
  },
  {
   "cell_type": "code",
   "execution_count": 92,
   "metadata": {
    "collapsed": false
   },
   "outputs": [
    {
     "data": {
      "image/png": "[encoded data removed]",
      "text/plain": [
       "<matplotlib.figure.Figure at 0x186337f0>"
      ]
     },
     "metadata": {},
     "output_type": "display_data"
    }
   ],
   "source": [
    "\n",
    "Y = np.array([ 918,  688,  575,  491,  629,  580,  819, 1089, 2228, 1748, 1425,1635, 1828, 2007, \n",
    "              2341, 2356, 2688, 2760, 2653, 2335])\n",
    "X = range(len(Y))\n",
    "X\n",
    "p3= np.polyfit(X,Y,3)\n",
    "p1= np.polyfit(X,Y,1)\n",
    "p2= np.polyfit(X,Y,2)\n",
    "\n",
    "plt.grid(True)\n",
    "plt.scatter(X,Y)\n",
    "plt.title('2014')\n",
    "plt.xlabel(\"Hours\")\n",
    "plt.ylabel(\"NUMBER_OF_PEOPLE_INJURED\")\n",
    "plt.plot(X,np.polyval(p1,X), 'r--')\n",
    "plt.plot(X,np.polyval(p2,X), 'm:')\n",
    "plt.plot(X,np.polyval(p3,X), 'b--')\n",
    "\n",
    "plt.show()"
   ]
  },
  {
   "cell_type": "code",
   "execution_count": 100,
   "metadata": {
    "collapsed": false
   },
   "outputs": [
    {
     "data": {
      "text/plain": [
       "1469.9760734083538"
      ]
     },
     "execution_count": 100,
     "metadata": {},
     "output_type": "execute_result"
    }
   ],
   "source": [
    "np.polyval(p3, 23)\n"
   ]
  },
  {
   "cell_type": "code",
   "execution_count": 96,
   "metadata": {
    "collapsed": false
   },
   "outputs": [
    {
     "data": {
      "text/html": [
       "<div>\n",
       "<table border=\"1\" class=\"dataframe\">\n",
       "  <thead>\n",
       "    <tr style=\"text-align: right;\">\n",
       "      <th></th>\n",
       "      <th>NUMBER_OF_PERSONS_INJURED</th>\n",
       "      <th>NUMBER_OF_PERSONS_KILLED</th>\n",
       "    </tr>\n",
       "    <tr>\n",
       "      <th>DATE_TIME</th>\n",
       "      <th></th>\n",
       "      <th></th>\n",
       "    </tr>\n",
       "  </thead>\n",
       "  <tbody>\n",
       "    <tr>\n",
       "      <th>0</th>\n",
       "      <td>918</td>\n",
       "      <td>1</td>\n",
       "    </tr>\n",
       "    <tr>\n",
       "      <th>1</th>\n",
       "      <td>688</td>\n",
       "      <td>3</td>\n",
       "    </tr>\n",
       "    <tr>\n",
       "      <th>2</th>\n",
       "      <td>575</td>\n",
       "      <td>5</td>\n",
       "    </tr>\n",
       "    <tr>\n",
       "      <th>3</th>\n",
       "      <td>491</td>\n",
       "      <td>2</td>\n",
       "    </tr>\n",
       "    <tr>\n",
       "      <th>4</th>\n",
       "      <td>629</td>\n",
       "      <td>8</td>\n",
       "    </tr>\n",
       "    <tr>\n",
       "      <th>5</th>\n",
       "      <td>580</td>\n",
       "      <td>8</td>\n",
       "    </tr>\n",
       "    <tr>\n",
       "      <th>6</th>\n",
       "      <td>819</td>\n",
       "      <td>7</td>\n",
       "    </tr>\n",
       "    <tr>\n",
       "      <th>7</th>\n",
       "      <td>1089</td>\n",
       "      <td>6</td>\n",
       "    </tr>\n",
       "    <tr>\n",
       "      <th>8</th>\n",
       "      <td>2228</td>\n",
       "      <td>8</td>\n",
       "    </tr>\n",
       "    <tr>\n",
       "      <th>9</th>\n",
       "      <td>1748</td>\n",
       "      <td>13</td>\n",
       "    </tr>\n",
       "    <tr>\n",
       "      <th>10</th>\n",
       "      <td>1425</td>\n",
       "      <td>3</td>\n",
       "    </tr>\n",
       "    <tr>\n",
       "      <th>11</th>\n",
       "      <td>1635</td>\n",
       "      <td>6</td>\n",
       "    </tr>\n",
       "    <tr>\n",
       "      <th>12</th>\n",
       "      <td>1828</td>\n",
       "      <td>7</td>\n",
       "    </tr>\n",
       "    <tr>\n",
       "      <th>13</th>\n",
       "      <td>2007</td>\n",
       "      <td>9</td>\n",
       "    </tr>\n",
       "    <tr>\n",
       "      <th>14</th>\n",
       "      <td>2341</td>\n",
       "      <td>12</td>\n",
       "    </tr>\n",
       "    <tr>\n",
       "      <th>15</th>\n",
       "      <td>2356</td>\n",
       "      <td>11</td>\n",
       "    </tr>\n",
       "    <tr>\n",
       "      <th>16</th>\n",
       "      <td>2688</td>\n",
       "      <td>11</td>\n",
       "    </tr>\n",
       "    <tr>\n",
       "      <th>17</th>\n",
       "      <td>2760</td>\n",
       "      <td>12</td>\n",
       "    </tr>\n",
       "    <tr>\n",
       "      <th>18</th>\n",
       "      <td>2653</td>\n",
       "      <td>14</td>\n",
       "    </tr>\n",
       "    <tr>\n",
       "      <th>19</th>\n",
       "      <td>2335</td>\n",
       "      <td>6</td>\n",
       "    </tr>\n",
       "    <tr>\n",
       "      <th>20</th>\n",
       "      <td>2170</td>\n",
       "      <td>10</td>\n",
       "    </tr>\n",
       "    <tr>\n",
       "      <th>21</th>\n",
       "      <td>1746</td>\n",
       "      <td>7</td>\n",
       "    </tr>\n",
       "    <tr>\n",
       "      <th>22</th>\n",
       "      <td>1585</td>\n",
       "      <td>11</td>\n",
       "    </tr>\n",
       "    <tr>\n",
       "      <th>23</th>\n",
       "      <td>1335</td>\n",
       "      <td>3</td>\n",
       "    </tr>\n",
       "  </tbody>\n",
       "</table>\n",
       "</div>"
      ],
      "text/plain": [
       "           NUMBER_OF_PERSONS_INJURED  NUMBER_OF_PERSONS_KILLED\n",
       "DATE_TIME                                                     \n",
       "0                                918                         1\n",
       "1                                688                         3\n",
       "2                                575                         5\n",
       "3                                491                         2\n",
       "4                                629                         8\n",
       "5                                580                         8\n",
       "6                                819                         7\n",
       "7                               1089                         6\n",
       "8                               2228                         8\n",
       "9                               1748                        13\n",
       "10                              1425                         3\n",
       "11                              1635                         6\n",
       "12                              1828                         7\n",
       "13                              2007                         9\n",
       "14                              2341                        12\n",
       "15                              2356                        11\n",
       "16                              2688                        11\n",
       "17                              2760                        12\n",
       "18                              2653                        14\n",
       "19                              2335                         6\n",
       "20                              2170                        10\n",
       "21                              1746                         7\n",
       "22                              1585                        11\n",
       "23                              1335                         3"
      ]
     },
     "execution_count": 96,
     "metadata": {},
     "output_type": "execute_result"
    }
   ],
   "source": [
    "data_2014_hour"
   ]
  },
  {
   "cell_type": "code",
   "execution_count": null,
   "metadata": {
    "collapsed": true
   },
   "outputs": [],
   "source": []
  }
 ],
 "metadata": {
  "kernelspec": {
   "display_name": "Python 2",
   "language": "python",
   "name": "python2"
  },
  "language_info": {
   "codemirror_mode": {
    "name": "ipython",
    "version": 2
   },
   "file_extension": ".py",
   "mimetype": "text/x-python",
   "name": "python",
   "nbconvert_exporter": "python",
   "pygments_lexer": "ipython2",
   "version": "2.7.10"
  }
 },
 "nbformat": 4,
 "nbformat_minor": 0
}
